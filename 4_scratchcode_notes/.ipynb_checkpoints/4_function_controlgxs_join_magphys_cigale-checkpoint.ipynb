{
 "cells": [
  {
   "cell_type": "markdown",
   "metadata": {},
   "source": [
    "# Function creation notebook"
   ]
  },
  {
   "cell_type": "markdown",
   "metadata": {},
   "source": [
    "**The code joins the results for each normal galaxy from CIGALE and MAGPHYS estimates.**\n",
    "\n",
    "MAGPHYS estimates come from the GAMA catalog, while CIGALE estimates were calculated in this paper."
   ]
  },
  {
   "cell_type": "markdown",
   "metadata": {},
   "source": [
    "GAMA Hosts paper\n",
    "\n",
    "Author: Maria B. Stone"
   ]
  },
  {
   "cell_type": "markdown",
   "metadata": {},
   "source": [
    "-------"
   ]
  },
  {
   "cell_type": "markdown",
   "metadata": {},
   "source": [
    "Here we import the necessary packages."
   ]
  },
  {
   "cell_type": "code",
   "execution_count": 1,
   "metadata": {},
   "outputs": [],
   "source": [
    "import numpy as np\n",
    "from astropy import units as u\n",
    "from astropy.table import Table, join"
   ]
  },
  {
   "cell_type": "markdown",
   "metadata": {},
   "source": [
    "Data tables are stored in the directory '1_tables'.\n",
    "They will be called from inside it in the code."
   ]
  },
  {
   "cell_type": "code",
   "execution_count": 2,
   "metadata": {
    "scrolled": true
   },
   "outputs": [],
   "source": [
    "DATA_DIR = \"../1_tables/\""
   ]
  },
  {
   "cell_type": "markdown",
   "metadata": {},
   "source": [
    "open the CIGALE results table for normal galaxies, which includes the estimates of sSFR"
   ]
  },
  {
   "cell_type": "code",
   "execution_count": 3,
   "metadata": {},
   "outputs": [],
   "source": [
    "data_cigale = Table.read(DATA_DIR + 'results_galaxies.fits')"
   ]
  },
  {
   "cell_type": "markdown",
   "metadata": {},
   "source": [
    "Let's look what is inside.\n",
    "\n",
    "We need to change the ID column name to 'CATAID', so that it matches the second datatable, so that we can combine the datatables based on the CATAID value.\n"
   ]
  },
  {
   "cell_type": "code",
   "execution_count": 4,
   "metadata": {
    "scrolled": true
   },
   "outputs": [
    {
     "name": "stdout",
     "output_type": "stream",
     "text": [
      "<Table length=205>\n",
      "                 name                  dtype      unit    \n",
      "------------------------------------- ------- ------------\n",
      "                                   id   int64             \n",
      "                   bayes.sfh.age_main float64          Myr\n",
      "               bayes.sfh.age_main_err float64          Myr\n",
      "                        bayes.sfh.sfr float64 solMass / yr\n",
      "                    bayes.sfh.sfr_err float64 solMass / yr\n",
      "                 bayes.sfh.sfr100Myrs float64 solMass / yr\n",
      "             bayes.sfh.sfr100Myrs_err float64 solMass / yr\n",
      "                  bayes.sfh.sfr10Myrs float64 solMass / yr\n",
      "              bayes.sfh.sfr10Myrs_err float64 solMass / yr\n",
      "                 bayes.stellar.m_star float64      solMass\n",
      "             bayes.stellar.m_star_err float64      solMass\n",
      "                      best.chi_square float64             \n",
      "              best.reduced_chi_square float64             \n",
      "            best.agn.fracAGN_dale2014 float64             \n",
      "         best.attenuation.E_BV_factor float64             \n",
      "          best.attenuation.E_BV_lines float64          mag\n",
      "               best.attenuation.E_BVs float64          mag\n",
      "                 best.attenuation.FUV float64          mag\n",
      "      best.attenuation.powerlaw_slope float64             \n",
      "   best.attenuation.uv_bump_amplitude float64             \n",
      "  best.attenuation.uv_bump_wavelength float64           nm\n",
      "       best.attenuation.uv_bump_width float64           nm\n",
      "                      best.dust.alpha float64             \n",
      "                         best.sfh.age float64          Myr\n",
      "                   best.sfh.age_burst float64          Myr\n",
      "                    best.sfh.age_main float64          Myr\n",
      "                     best.sfh.f_burst float64             \n",
      "                   best.sfh.tau_burst float64          Myr\n",
      "                    best.sfh.tau_main float64          Myr\n",
      "              best.stellar.age_m_star float64          Myr\n",
      "                     best.stellar.imf float64             \n",
      "             best.stellar.metallicity float64             \n",
      "best.stellar.old_young_separation_age float64          Myr\n",
      "                    best.universe.age float64          Myr\n",
      "    best.universe.luminosity_distance float64            m\n",
      "               best.universe.redshift float64             \n",
      "                 best.dust.luminosity float64            W\n",
      "                  best.sfh.integrated float64      solMass\n",
      "                         best.sfh.sfr float64 solMass / yr\n",
      "                  best.sfh.sfr100Myrs float64 solMass / yr\n",
      "                   best.sfh.sfr10Myrs float64 solMass / yr\n",
      "                     best.stellar.lum float64            W\n",
      "                  best.stellar.lum_ly float64            W\n",
      "              best.stellar.lum_ly_old float64            W\n",
      "            best.stellar.lum_ly_young float64            W\n",
      "                 best.stellar.lum_old float64            W\n",
      "               best.stellar.lum_young float64            W\n",
      "                   best.stellar.m_gas float64      solMass\n",
      "               best.stellar.m_gas_old float64      solMass\n",
      "             best.stellar.m_gas_young float64      solMass\n",
      "                  best.stellar.m_star float64      solMass\n",
      "              best.stellar.m_star_old float64      solMass\n",
      "            best.stellar.m_star_young float64      solMass\n",
      "                    best.stellar.n_ly float64       ph / s\n",
      "                best.stellar.n_ly_old float64       ph / s\n",
      "              best.stellar.n_ly_young float64       ph / s\n",
      "                             best.FUV float64          mJy\n",
      "                             best.NUV float64          mJy\n",
      "                         best.u_prime float64          mJy\n",
      "                         best.g_prime float64          mJy\n",
      "                         best.r_prime float64          mJy\n",
      "                         best.i_prime float64          mJy\n",
      "                         best.z_prime float64          mJy\n",
      "          best.Paranal_VISTA_Z_filter float64          mJy\n",
      "          best.Paranal_VISTA_Y_filter float64          mJy\n",
      "          best.Paranal_VISTA_J_filter float64          mJy\n",
      "          best.Paranal_VISTA_H_filter float64          mJy\n",
      "         best.Paranal_VISTA_Ks_filter float64          mJy\n",
      "                           best.WISE1 float64          mJy\n",
      "                           best.WISE2 float64          mJy\n",
      "                           best.WISE3 float64          mJy\n",
      "                           best.WISE4 float64          mJy\n",
      "                      best.PACS_green float64          mJy\n",
      "                        best.PACS_red float64          mJy\n",
      "                         best.PSW_ext float64          mJy\n",
      "                         best.PMW_ext float64          mJy\n",
      "                         best.PLW_ext float64          mJy\n"
     ]
    }
   ],
   "source": [
    "data_cigale.info()"
   ]
  },
  {
   "cell_type": "code",
   "execution_count": 5,
   "metadata": {},
   "outputs": [
    {
     "data": {
      "text/html": [
       "<div><i>Table length=4</i>\n",
       "<table id=\"table140524129455216\" class=\"table-striped table-bordered table-condensed\">\n",
       "<thead><tr><th>id</th><th>bayes.sfh.age_main</th><th>bayes.sfh.age_main_err</th><th>bayes.sfh.sfr</th><th>bayes.sfh.sfr_err</th><th>bayes.sfh.sfr100Myrs</th><th>bayes.sfh.sfr100Myrs_err</th><th>bayes.sfh.sfr10Myrs</th><th>bayes.sfh.sfr10Myrs_err</th><th>bayes.stellar.m_star</th><th>bayes.stellar.m_star_err</th><th>best.chi_square</th><th>best.reduced_chi_square</th><th>best.agn.fracAGN_dale2014</th><th>best.attenuation.E_BV_factor</th><th>best.attenuation.E_BV_lines</th><th>best.attenuation.E_BVs</th><th>best.attenuation.FUV</th><th>best.attenuation.powerlaw_slope</th><th>best.attenuation.uv_bump_amplitude</th><th>best.attenuation.uv_bump_wavelength</th><th>best.attenuation.uv_bump_width</th><th>best.dust.alpha</th><th>best.sfh.age</th><th>best.sfh.age_burst</th><th>best.sfh.age_main</th><th>best.sfh.f_burst</th><th>best.sfh.tau_burst</th><th>best.sfh.tau_main</th><th>best.stellar.age_m_star</th><th>best.stellar.imf</th><th>best.stellar.metallicity</th><th>best.stellar.old_young_separation_age</th><th>best.universe.age</th><th>best.universe.luminosity_distance</th><th>best.universe.redshift</th><th>best.dust.luminosity</th><th>best.sfh.integrated</th><th>best.sfh.sfr</th><th>best.sfh.sfr100Myrs</th><th>best.sfh.sfr10Myrs</th><th>best.stellar.lum</th><th>best.stellar.lum_ly</th><th>best.stellar.lum_ly_old</th><th>best.stellar.lum_ly_young</th><th>best.stellar.lum_old</th><th>best.stellar.lum_young</th><th>best.stellar.m_gas</th><th>best.stellar.m_gas_old</th><th>best.stellar.m_gas_young</th><th>best.stellar.m_star</th><th>best.stellar.m_star_old</th><th>best.stellar.m_star_young</th><th>best.stellar.n_ly</th><th>best.stellar.n_ly_old</th><th>best.stellar.n_ly_young</th><th>best.FUV</th><th>best.NUV</th><th>best.u_prime</th><th>best.g_prime</th><th>best.r_prime</th><th>best.i_prime</th><th>best.z_prime</th><th>best.Paranal_VISTA_Z_filter</th><th>best.Paranal_VISTA_Y_filter</th><th>best.Paranal_VISTA_J_filter</th><th>best.Paranal_VISTA_H_filter</th><th>best.Paranal_VISTA_Ks_filter</th><th>best.WISE1</th><th>best.WISE2</th><th>best.WISE3</th><th>best.WISE4</th><th>best.PACS_green</th><th>best.PACS_red</th><th>best.PSW_ext</th><th>best.PMW_ext</th><th>best.PLW_ext</th></tr></thead>\n",
       "<thead><tr><th></th><th>Myr</th><th>Myr</th><th>solMass / yr</th><th>solMass / yr</th><th>solMass / yr</th><th>solMass / yr</th><th>solMass / yr</th><th>solMass / yr</th><th>solMass</th><th>solMass</th><th></th><th></th><th></th><th></th><th>mag</th><th>mag</th><th>mag</th><th></th><th></th><th>nm</th><th>nm</th><th></th><th>Myr</th><th>Myr</th><th>Myr</th><th></th><th>Myr</th><th>Myr</th><th>Myr</th><th></th><th></th><th>Myr</th><th>Myr</th><th>m</th><th></th><th>W</th><th>solMass</th><th>solMass / yr</th><th>solMass / yr</th><th>solMass / yr</th><th>W</th><th>W</th><th>W</th><th>W</th><th>W</th><th>W</th><th>solMass</th><th>solMass</th><th>solMass</th><th>solMass</th><th>solMass</th><th>solMass</th><th>ph / s</th><th>ph / s</th><th>ph / s</th><th>mJy</th><th>mJy</th><th>mJy</th><th>mJy</th><th>mJy</th><th>mJy</th><th>mJy</th><th>mJy</th><th>mJy</th><th>mJy</th><th>mJy</th><th>mJy</th><th>mJy</th><th>mJy</th><th>mJy</th><th>mJy</th><th>mJy</th><th>mJy</th><th>mJy</th><th>mJy</th><th>mJy</th></tr></thead>\n",
       "<thead><tr><th>int64</th><th>float64</th><th>float64</th><th>float64</th><th>float64</th><th>float64</th><th>float64</th><th>float64</th><th>float64</th><th>float64</th><th>float64</th><th>float64</th><th>float64</th><th>float64</th><th>float64</th><th>float64</th><th>float64</th><th>float64</th><th>float64</th><th>float64</th><th>float64</th><th>float64</th><th>float64</th><th>float64</th><th>float64</th><th>float64</th><th>float64</th><th>float64</th><th>float64</th><th>float64</th><th>float64</th><th>float64</th><th>float64</th><th>float64</th><th>float64</th><th>float64</th><th>float64</th><th>float64</th><th>float64</th><th>float64</th><th>float64</th><th>float64</th><th>float64</th><th>float64</th><th>float64</th><th>float64</th><th>float64</th><th>float64</th><th>float64</th><th>float64</th><th>float64</th><th>float64</th><th>float64</th><th>float64</th><th>float64</th><th>float64</th><th>float64</th><th>float64</th><th>float64</th><th>float64</th><th>float64</th><th>float64</th><th>float64</th><th>float64</th><th>float64</th><th>float64</th><th>float64</th><th>float64</th><th>float64</th><th>float64</th><th>float64</th><th>float64</th><th>float64</th><th>float64</th><th>float64</th><th>float64</th><th>float64</th></tr></thead>\n",
       "<tr><td>7295</td><td>9324.49323167307</td><td>590.3363570111959</td><td>0.13337753730188573</td><td>0.06816537661650701</td><td>0.13941988903231986</td><td>0.07118569800217289</td><td>0.13391250238072244</td><td>0.06843298291763528</td><td>75347502355.91</td><td>4789210363.00404</td><td>4.266240944439845</td><td>0.21331204722199226</td><td>0.0</td><td>0.44</td><td>0.1</td><td>0.044000000000000004</td><td>0.473906206250691</td><td>-0.2</td><td>0.0</td><td>217.5</td><td>35.0</td><td>2.0</td><td>9000.0</td><td>50.0</td><td>9000.0</td><td>0.0</td><td>50.0</td><td>1000.0</td><td>6986.541931772296</td><td>1.0</td><td>0.02</td><td>10.0</td><td>11019.697167817974</td><td>3.5261350875814536e+25</td><td>0.22950999438762665</td><td>1.427037198531657e+36</td><td>135933819567.87445</td><td>0.15130117476267366</td><td>0.1581557150005561</td><td>0.15190805133274538</td><td>2.08447357210434e+37</td><td>1.28890473165179e+35</td><td>5.59891621392213e+34</td><td>7.29013110259577e+34</td><td>2.0469052708701232e+37</td><td>3.7568301234216586e+35</td><td>64531944701.54616</td><td>64531854471.854294</td><td>90229.69186933538</td><td>71401874865.87373</td><td>71400446015.50706</td><td>1428850.3666657296</td><td>3.42547007319675e+52</td><td>1.2174193811965494e+52</td><td>2.2080506920002008e+52</td><td>0.0009924059731090998</td><td>0.0012616898514302365</td><td>0.00461446398991896</td><td>0.027876263693897438</td><td>0.09108680599489014</td><td>0.1485729918533819</td><td>0.1962568983359533</td><td>0.18530308752015393</td><td>0.23873841293743048</td><td>0.33693064122485955</td><td>0.3883328578083225</td><td>0.4663804430970093</td><td>0.23243572768811918</td><td>0.16992725580936344</td><td>0.08550814553058815</td><td>0.07470652882635116</td><td>1.5551413991478216</td><td>2.0186479296084414</td><td>1.318778914029003</td><td>0.6501001773405274</td><td>0.23467134227506964</td></tr>\n",
       "<tr><td>8123</td><td>9646.753199662126</td><td>487.5656563873294</td><td>0.226770374321801</td><td>0.09727710251569821</td><td>0.23710250505378447</td><td>0.10162680093924703</td><td>0.2276849600130694</td><td>0.097662371182098</td><td>175803392338.8815</td><td>9312348483.481167</td><td>9.709165960545224</td><td>0.4854582980272612</td><td>0.0</td><td>0.44</td><td>0.1</td><td>0.044000000000000004</td><td>0.47393301885503114</td><td>-0.2</td><td>0.0</td><td>217.5</td><td>35.0</td><td>2.0</td><td>10000.0</td><td>50.0</td><td>10000.0</td><td>0.0</td><td>50.0</td><td>1000.0</td><td>7985.283195137423</td><td>1.0</td><td>0.02</td><td>10.0</td><td>10956.492106221294</td><td>3.6351141531111846e+25</td><td>0.2357500046491623</td><td>3.0183604239063264e+36</td><td>346882016740.9182</td><td>0.157704797344203</td><td>0.16494217825560079</td><td>0.1583452961974298</td><td>4.715180779463281e+37</td><td>2.280350760955886e+35</td><td>1.5204702736482252e+35</td><td>7.59880487307661e+34</td><td>4.676021107188942e+37</td><td>3.915967227433875e+35</td><td>166212863982.83386</td><td>166212769927.3296</td><td>94055.5043023248</td><td>180669152757.6105</td><td>180667663360.6269</td><td>1489396.9836092934</td><td>5.627668305978607e+52</td><td>3.3261274452112515e+52</td><td>2.3015408607673557e+52</td><td>0.0011267742378329745</td><td>0.0014380004272845426</td><td>0.007645019591714975</td><td>0.053838609910425106</td><td>0.1877825619551626</td><td>0.313127927838075</td><td>0.4171695352104259</td><td>0.3913771588929407</td><td>0.5109913215563853</td><td>0.7349740538209191</td><td>0.851846876365218</td><td>1.0356598332899072</td><td>0.5143095062676459</td><td>0.38030105459297847</td><td>0.17977401067117837</td><td>0.1512629978776336</td><td>3.091135886969752</td><td>4.041173902293437</td><td>2.65978726791098</td><td>1.3169271200835062</td><td>0.47683129746465486</td></tr>\n",
       "<tr><td>8716</td><td>7988.429739685086</td><td>883.2187084334333</td><td>0.46595227781821613</td><td>0.3491703330924382</td><td>0.4975814857523729</td><td>0.36055638931349343</td><td>0.46825044842652835</td><td>0.3502992798642023</td><td>76233683329.44374</td><td>9683393473.501974</td><td>10.398340277185312</td><td>0.5199170138592656</td><td>0.0</td><td>0.44</td><td>0.4</td><td>0.17600000000000002</td><td>1.8795536327903948</td><td>-0.2</td><td>0.0</td><td>217.5</td><td>35.0</td><td>2.0</td><td>7000.0</td><td>500.0</td><td>7000.0</td><td>0.1</td><td>50.0</td><td>1000.0</td><td>4470.424051215918</td><td>1.0</td><td>0.02</td><td>10.0</td><td>10260.923754896832</td><td>4.941914538974858e+25</td><td>0.30799999833106995</td><td>1.0888803971016317e+37</td><td>114552460096.63167</td><td>0.6740006761952185</td><td>0.7256672199485704</td><td>0.6775749957991861</td><td>3.663414604258594e+37</td><td>3.771903928342562e+35</td><td>5.23010497565458e+34</td><td>3.248893430777104e+35</td><td>3.495913907150124e+37</td><td>1.6750069710846996e+36</td><td>51700865810.114555</td><td>51700463093.841354</td><td>402716.273206385</td><td>62851594284.48871</td><td>62845221252.83222</td><td>6373031.656486239</td><td>1.095994810744222e+53</td><td>1.1198016038343968e+52</td><td>9.84014650360782e+52</td><td>0.00042622885686892956</td><td>0.0015968773624995688</td><td>0.004170071384405882</td><td>0.01972288243735376</td><td>0.06089057494012756</td><td>0.09398485653876157</td><td>0.12321476327953904</td><td>0.11703582860183918</td><td>0.14879088074662805</td><td>0.20660756526358878</td><td>0.2521944525294689</td><td>0.3141188058846426</td><td>0.18895389538660481</td><td>0.13740159970673796</td><td>0.21085853553166298</td><td>0.2539342660695071</td><td>5.921287510687222</td><td>8.372049039880578</td><td>6.0023913106824285</td><td>3.1191060251544274</td><td>1.172817298505078</td></tr>\n",
       "<tr><td>14485</td><td>6935.559968907486</td><td>467.43468877609183</td><td>0.8500578978172015</td><td>0.46389442010798704</td><td>0.9115696440037206</td><td>0.48072309740773495</td><td>0.8543902829669395</td><td>0.4654628091328498</td><td>70210712965.18854</td><td>5591843786.205093</td><td>15.232044668377705</td><td>0.7616022334188852</td><td>0.0</td><td>0.44</td><td>0.3</td><td>0.132</td><td>1.3435232337841647</td><td>0.0</td><td>0.0</td><td>217.5</td><td>35.0</td><td>2.0</td><td>7000.0</td><td>500.0</td><td>7000.0</td><td>0.1</td><td>50.0</td><td>1000.0</td><td>4470.424051215918</td><td>1.0</td><td>0.02</td><td>10.0</td><td>11502.99893446104</td><td>2.741254458004746e+25</td><td>0.18342000246047974</td><td>1.220782313756919e+37</td><td>135879225918.52567</td><td>0.7994825259336538</td><td>0.8607680711342454</td><td>0.8037222932905733</td><td>4.3454495889950485e+37</td><td>4.47413687658816e+35</td><td>6.203818014602991e+34</td><td>3.8537550751278606e+35</td><td>4.146764505805102e+37</td><td>1.9868508318994685e+36</td><td>61326257154.75579</td><td>61325779462.91555</td><td>477691.8402443468</td><td>74552968761.36383</td><td>74545409232.6771</td><td>7559528.686744219</td><td>1.3000412768876437e+53</td><td>1.3282802916933205e+52</td><td>1.1672132477183118e+53</td><td>0.003915749565452634</td><td>0.010218009870151843</td><td>0.02811442755200597</td><td>0.13085201469811106</td><td>0.27880076663691183</td><td>0.3935152848811373</td><td>0.5045848234769492</td><td>0.4807670719371963</td><td>0.5986062279265023</td><td>0.7872487095291849</td><td>0.9204644426079288</td><td>1.0611667050649984</td><td>0.5720903217734785</td><td>0.4139219836457205</td><td>0.768032586498637</td><td>0.9396186958938603</td><td>22.18742587753265</td><td>27.25505521978608</td><td>16.85020908054775</td><td>8.033427989286304</td><td>2.8384325649085973</td></tr>\n",
       "</table></div>"
      ],
      "text/plain": [
       "<Table length=4>\n",
       "  id  bayes.sfh.age_main bayes.sfh.age_main_err ...    best.PSW_ext       best.PMW_ext        best.PLW_ext   \n",
       "             Myr                  Myr           ...        mJy                mJy                 mJy        \n",
       "int64      float64              float64         ...      float64            float64             float64      \n",
       "----- ------------------ ---------------------- ... ------------------ ------------------ -------------------\n",
       " 7295   9324.49323167307      590.3363570111959 ...  1.318778914029003 0.6501001773405274 0.23467134227506964\n",
       " 8123  9646.753199662126      487.5656563873294 ...   2.65978726791098 1.3169271200835062 0.47683129746465486\n",
       " 8716  7988.429739685086      883.2187084334333 ... 6.0023913106824285 3.1191060251544274   1.172817298505078\n",
       "14485  6935.559968907486     467.43468877609183 ...  16.85020908054775  8.033427989286304  2.8384325649085973"
      ]
     },
     "execution_count": 5,
     "metadata": {},
     "output_type": "execute_result"
    }
   ],
   "source": [
    "# Visualizing the fist few entries\n",
    "data_cigale[:4]"
   ]
  },
  {
   "cell_type": "code",
   "execution_count": 6,
   "metadata": {},
   "outputs": [],
   "source": [
    "# change the name of the id column\n",
    "data_cigale.rename_column('id','CATAID')"
   ]
  },
  {
   "cell_type": "code",
   "execution_count": 7,
   "metadata": {
    "scrolled": true
   },
   "outputs": [
    {
     "data": {
      "text/html": [
       "<div><i>Table length=4</i>\n",
       "<table id=\"table140524129453440\" class=\"table-striped table-bordered table-condensed\">\n",
       "<thead><tr><th>CATAID</th><th>bayes.sfh.age_main</th><th>bayes.sfh.age_main_err</th><th>bayes.sfh.sfr</th><th>bayes.sfh.sfr_err</th><th>bayes.sfh.sfr100Myrs</th><th>bayes.sfh.sfr100Myrs_err</th><th>bayes.sfh.sfr10Myrs</th><th>bayes.sfh.sfr10Myrs_err</th><th>bayes.stellar.m_star</th><th>bayes.stellar.m_star_err</th><th>best.chi_square</th><th>best.reduced_chi_square</th><th>best.agn.fracAGN_dale2014</th><th>best.attenuation.E_BV_factor</th><th>best.attenuation.E_BV_lines</th><th>best.attenuation.E_BVs</th><th>best.attenuation.FUV</th><th>best.attenuation.powerlaw_slope</th><th>best.attenuation.uv_bump_amplitude</th><th>best.attenuation.uv_bump_wavelength</th><th>best.attenuation.uv_bump_width</th><th>best.dust.alpha</th><th>best.sfh.age</th><th>best.sfh.age_burst</th><th>best.sfh.age_main</th><th>best.sfh.f_burst</th><th>best.sfh.tau_burst</th><th>best.sfh.tau_main</th><th>best.stellar.age_m_star</th><th>best.stellar.imf</th><th>best.stellar.metallicity</th><th>best.stellar.old_young_separation_age</th><th>best.universe.age</th><th>best.universe.luminosity_distance</th><th>best.universe.redshift</th><th>best.dust.luminosity</th><th>best.sfh.integrated</th><th>best.sfh.sfr</th><th>best.sfh.sfr100Myrs</th><th>best.sfh.sfr10Myrs</th><th>best.stellar.lum</th><th>best.stellar.lum_ly</th><th>best.stellar.lum_ly_old</th><th>best.stellar.lum_ly_young</th><th>best.stellar.lum_old</th><th>best.stellar.lum_young</th><th>best.stellar.m_gas</th><th>best.stellar.m_gas_old</th><th>best.stellar.m_gas_young</th><th>best.stellar.m_star</th><th>best.stellar.m_star_old</th><th>best.stellar.m_star_young</th><th>best.stellar.n_ly</th><th>best.stellar.n_ly_old</th><th>best.stellar.n_ly_young</th><th>best.FUV</th><th>best.NUV</th><th>best.u_prime</th><th>best.g_prime</th><th>best.r_prime</th><th>best.i_prime</th><th>best.z_prime</th><th>best.Paranal_VISTA_Z_filter</th><th>best.Paranal_VISTA_Y_filter</th><th>best.Paranal_VISTA_J_filter</th><th>best.Paranal_VISTA_H_filter</th><th>best.Paranal_VISTA_Ks_filter</th><th>best.WISE1</th><th>best.WISE2</th><th>best.WISE3</th><th>best.WISE4</th><th>best.PACS_green</th><th>best.PACS_red</th><th>best.PSW_ext</th><th>best.PMW_ext</th><th>best.PLW_ext</th></tr></thead>\n",
       "<thead><tr><th></th><th>Myr</th><th>Myr</th><th>solMass / yr</th><th>solMass / yr</th><th>solMass / yr</th><th>solMass / yr</th><th>solMass / yr</th><th>solMass / yr</th><th>solMass</th><th>solMass</th><th></th><th></th><th></th><th></th><th>mag</th><th>mag</th><th>mag</th><th></th><th></th><th>nm</th><th>nm</th><th></th><th>Myr</th><th>Myr</th><th>Myr</th><th></th><th>Myr</th><th>Myr</th><th>Myr</th><th></th><th></th><th>Myr</th><th>Myr</th><th>m</th><th></th><th>W</th><th>solMass</th><th>solMass / yr</th><th>solMass / yr</th><th>solMass / yr</th><th>W</th><th>W</th><th>W</th><th>W</th><th>W</th><th>W</th><th>solMass</th><th>solMass</th><th>solMass</th><th>solMass</th><th>solMass</th><th>solMass</th><th>ph / s</th><th>ph / s</th><th>ph / s</th><th>mJy</th><th>mJy</th><th>mJy</th><th>mJy</th><th>mJy</th><th>mJy</th><th>mJy</th><th>mJy</th><th>mJy</th><th>mJy</th><th>mJy</th><th>mJy</th><th>mJy</th><th>mJy</th><th>mJy</th><th>mJy</th><th>mJy</th><th>mJy</th><th>mJy</th><th>mJy</th><th>mJy</th></tr></thead>\n",
       "<thead><tr><th>int64</th><th>float64</th><th>float64</th><th>float64</th><th>float64</th><th>float64</th><th>float64</th><th>float64</th><th>float64</th><th>float64</th><th>float64</th><th>float64</th><th>float64</th><th>float64</th><th>float64</th><th>float64</th><th>float64</th><th>float64</th><th>float64</th><th>float64</th><th>float64</th><th>float64</th><th>float64</th><th>float64</th><th>float64</th><th>float64</th><th>float64</th><th>float64</th><th>float64</th><th>float64</th><th>float64</th><th>float64</th><th>float64</th><th>float64</th><th>float64</th><th>float64</th><th>float64</th><th>float64</th><th>float64</th><th>float64</th><th>float64</th><th>float64</th><th>float64</th><th>float64</th><th>float64</th><th>float64</th><th>float64</th><th>float64</th><th>float64</th><th>float64</th><th>float64</th><th>float64</th><th>float64</th><th>float64</th><th>float64</th><th>float64</th><th>float64</th><th>float64</th><th>float64</th><th>float64</th><th>float64</th><th>float64</th><th>float64</th><th>float64</th><th>float64</th><th>float64</th><th>float64</th><th>float64</th><th>float64</th><th>float64</th><th>float64</th><th>float64</th><th>float64</th><th>float64</th><th>float64</th><th>float64</th><th>float64</th></tr></thead>\n",
       "<tr><td>7295</td><td>9324.49323167307</td><td>590.3363570111959</td><td>0.13337753730188573</td><td>0.06816537661650701</td><td>0.13941988903231986</td><td>0.07118569800217289</td><td>0.13391250238072244</td><td>0.06843298291763528</td><td>75347502355.91</td><td>4789210363.00404</td><td>4.266240944439845</td><td>0.21331204722199226</td><td>0.0</td><td>0.44</td><td>0.1</td><td>0.044000000000000004</td><td>0.473906206250691</td><td>-0.2</td><td>0.0</td><td>217.5</td><td>35.0</td><td>2.0</td><td>9000.0</td><td>50.0</td><td>9000.0</td><td>0.0</td><td>50.0</td><td>1000.0</td><td>6986.541931772296</td><td>1.0</td><td>0.02</td><td>10.0</td><td>11019.697167817974</td><td>3.5261350875814536e+25</td><td>0.22950999438762665</td><td>1.427037198531657e+36</td><td>135933819567.87445</td><td>0.15130117476267366</td><td>0.1581557150005561</td><td>0.15190805133274538</td><td>2.08447357210434e+37</td><td>1.28890473165179e+35</td><td>5.59891621392213e+34</td><td>7.29013110259577e+34</td><td>2.0469052708701232e+37</td><td>3.7568301234216586e+35</td><td>64531944701.54616</td><td>64531854471.854294</td><td>90229.69186933538</td><td>71401874865.87373</td><td>71400446015.50706</td><td>1428850.3666657296</td><td>3.42547007319675e+52</td><td>1.2174193811965494e+52</td><td>2.2080506920002008e+52</td><td>0.0009924059731090998</td><td>0.0012616898514302365</td><td>0.00461446398991896</td><td>0.027876263693897438</td><td>0.09108680599489014</td><td>0.1485729918533819</td><td>0.1962568983359533</td><td>0.18530308752015393</td><td>0.23873841293743048</td><td>0.33693064122485955</td><td>0.3883328578083225</td><td>0.4663804430970093</td><td>0.23243572768811918</td><td>0.16992725580936344</td><td>0.08550814553058815</td><td>0.07470652882635116</td><td>1.5551413991478216</td><td>2.0186479296084414</td><td>1.318778914029003</td><td>0.6501001773405274</td><td>0.23467134227506964</td></tr>\n",
       "<tr><td>8123</td><td>9646.753199662126</td><td>487.5656563873294</td><td>0.226770374321801</td><td>0.09727710251569821</td><td>0.23710250505378447</td><td>0.10162680093924703</td><td>0.2276849600130694</td><td>0.097662371182098</td><td>175803392338.8815</td><td>9312348483.481167</td><td>9.709165960545224</td><td>0.4854582980272612</td><td>0.0</td><td>0.44</td><td>0.1</td><td>0.044000000000000004</td><td>0.47393301885503114</td><td>-0.2</td><td>0.0</td><td>217.5</td><td>35.0</td><td>2.0</td><td>10000.0</td><td>50.0</td><td>10000.0</td><td>0.0</td><td>50.0</td><td>1000.0</td><td>7985.283195137423</td><td>1.0</td><td>0.02</td><td>10.0</td><td>10956.492106221294</td><td>3.6351141531111846e+25</td><td>0.2357500046491623</td><td>3.0183604239063264e+36</td><td>346882016740.9182</td><td>0.157704797344203</td><td>0.16494217825560079</td><td>0.1583452961974298</td><td>4.715180779463281e+37</td><td>2.280350760955886e+35</td><td>1.5204702736482252e+35</td><td>7.59880487307661e+34</td><td>4.676021107188942e+37</td><td>3.915967227433875e+35</td><td>166212863982.83386</td><td>166212769927.3296</td><td>94055.5043023248</td><td>180669152757.6105</td><td>180667663360.6269</td><td>1489396.9836092934</td><td>5.627668305978607e+52</td><td>3.3261274452112515e+52</td><td>2.3015408607673557e+52</td><td>0.0011267742378329745</td><td>0.0014380004272845426</td><td>0.007645019591714975</td><td>0.053838609910425106</td><td>0.1877825619551626</td><td>0.313127927838075</td><td>0.4171695352104259</td><td>0.3913771588929407</td><td>0.5109913215563853</td><td>0.7349740538209191</td><td>0.851846876365218</td><td>1.0356598332899072</td><td>0.5143095062676459</td><td>0.38030105459297847</td><td>0.17977401067117837</td><td>0.1512629978776336</td><td>3.091135886969752</td><td>4.041173902293437</td><td>2.65978726791098</td><td>1.3169271200835062</td><td>0.47683129746465486</td></tr>\n",
       "<tr><td>8716</td><td>7988.429739685086</td><td>883.2187084334333</td><td>0.46595227781821613</td><td>0.3491703330924382</td><td>0.4975814857523729</td><td>0.36055638931349343</td><td>0.46825044842652835</td><td>0.3502992798642023</td><td>76233683329.44374</td><td>9683393473.501974</td><td>10.398340277185312</td><td>0.5199170138592656</td><td>0.0</td><td>0.44</td><td>0.4</td><td>0.17600000000000002</td><td>1.8795536327903948</td><td>-0.2</td><td>0.0</td><td>217.5</td><td>35.0</td><td>2.0</td><td>7000.0</td><td>500.0</td><td>7000.0</td><td>0.1</td><td>50.0</td><td>1000.0</td><td>4470.424051215918</td><td>1.0</td><td>0.02</td><td>10.0</td><td>10260.923754896832</td><td>4.941914538974858e+25</td><td>0.30799999833106995</td><td>1.0888803971016317e+37</td><td>114552460096.63167</td><td>0.6740006761952185</td><td>0.7256672199485704</td><td>0.6775749957991861</td><td>3.663414604258594e+37</td><td>3.771903928342562e+35</td><td>5.23010497565458e+34</td><td>3.248893430777104e+35</td><td>3.495913907150124e+37</td><td>1.6750069710846996e+36</td><td>51700865810.114555</td><td>51700463093.841354</td><td>402716.273206385</td><td>62851594284.48871</td><td>62845221252.83222</td><td>6373031.656486239</td><td>1.095994810744222e+53</td><td>1.1198016038343968e+52</td><td>9.84014650360782e+52</td><td>0.00042622885686892956</td><td>0.0015968773624995688</td><td>0.004170071384405882</td><td>0.01972288243735376</td><td>0.06089057494012756</td><td>0.09398485653876157</td><td>0.12321476327953904</td><td>0.11703582860183918</td><td>0.14879088074662805</td><td>0.20660756526358878</td><td>0.2521944525294689</td><td>0.3141188058846426</td><td>0.18895389538660481</td><td>0.13740159970673796</td><td>0.21085853553166298</td><td>0.2539342660695071</td><td>5.921287510687222</td><td>8.372049039880578</td><td>6.0023913106824285</td><td>3.1191060251544274</td><td>1.172817298505078</td></tr>\n",
       "<tr><td>14485</td><td>6935.559968907486</td><td>467.43468877609183</td><td>0.8500578978172015</td><td>0.46389442010798704</td><td>0.9115696440037206</td><td>0.48072309740773495</td><td>0.8543902829669395</td><td>0.4654628091328498</td><td>70210712965.18854</td><td>5591843786.205093</td><td>15.232044668377705</td><td>0.7616022334188852</td><td>0.0</td><td>0.44</td><td>0.3</td><td>0.132</td><td>1.3435232337841647</td><td>0.0</td><td>0.0</td><td>217.5</td><td>35.0</td><td>2.0</td><td>7000.0</td><td>500.0</td><td>7000.0</td><td>0.1</td><td>50.0</td><td>1000.0</td><td>4470.424051215918</td><td>1.0</td><td>0.02</td><td>10.0</td><td>11502.99893446104</td><td>2.741254458004746e+25</td><td>0.18342000246047974</td><td>1.220782313756919e+37</td><td>135879225918.52567</td><td>0.7994825259336538</td><td>0.8607680711342454</td><td>0.8037222932905733</td><td>4.3454495889950485e+37</td><td>4.47413687658816e+35</td><td>6.203818014602991e+34</td><td>3.8537550751278606e+35</td><td>4.146764505805102e+37</td><td>1.9868508318994685e+36</td><td>61326257154.75579</td><td>61325779462.91555</td><td>477691.8402443468</td><td>74552968761.36383</td><td>74545409232.6771</td><td>7559528.686744219</td><td>1.3000412768876437e+53</td><td>1.3282802916933205e+52</td><td>1.1672132477183118e+53</td><td>0.003915749565452634</td><td>0.010218009870151843</td><td>0.02811442755200597</td><td>0.13085201469811106</td><td>0.27880076663691183</td><td>0.3935152848811373</td><td>0.5045848234769492</td><td>0.4807670719371963</td><td>0.5986062279265023</td><td>0.7872487095291849</td><td>0.9204644426079288</td><td>1.0611667050649984</td><td>0.5720903217734785</td><td>0.4139219836457205</td><td>0.768032586498637</td><td>0.9396186958938603</td><td>22.18742587753265</td><td>27.25505521978608</td><td>16.85020908054775</td><td>8.033427989286304</td><td>2.8384325649085973</td></tr>\n",
       "</table></div>"
      ],
      "text/plain": [
       "<Table length=4>\n",
       "CATAID bayes.sfh.age_main bayes.sfh.age_main_err ...    best.PSW_ext       best.PMW_ext        best.PLW_ext   \n",
       "              Myr                  Myr           ...        mJy                mJy                 mJy        \n",
       "int64       float64              float64         ...      float64            float64             float64      \n",
       "------ ------------------ ---------------------- ... ------------------ ------------------ -------------------\n",
       "  7295   9324.49323167307      590.3363570111959 ...  1.318778914029003 0.6501001773405274 0.23467134227506964\n",
       "  8123  9646.753199662126      487.5656563873294 ...   2.65978726791098 1.3169271200835062 0.47683129746465486\n",
       "  8716  7988.429739685086      883.2187084334333 ... 6.0023913106824285 3.1191060251544274   1.172817298505078\n",
       " 14485  6935.559968907486     467.43468877609183 ...  16.85020908054775  8.033427989286304  2.8384325649085973"
      ]
     },
     "execution_count": 7,
     "metadata": {},
     "output_type": "execute_result"
    }
   ],
   "source": [
    "# Visualize the result \n",
    "data_cigale[:4]"
   ]
  },
  {
   "cell_type": "markdown",
   "metadata": {},
   "source": [
    "-------"
   ]
  },
  {
   "cell_type": "markdown",
   "metadata": {},
   "source": [
    "Now, let's get the MAGPHYS data."
   ]
  },
  {
   "cell_type": "code",
   "execution_count": 8,
   "metadata": {
    "scrolled": true
   },
   "outputs": [],
   "source": [
    "# open MAGPHYS results for a single set of normal galaxies, which is our control\n",
    "data_magphys = Table.read(DATA_DIR + '12_data_seed_gals_set199_magphys.fits')"
   ]
  },
  {
   "cell_type": "code",
   "execution_count": 9,
   "metadata": {},
   "outputs": [
    {
     "data": {
      "text/html": [
       "<div><i>Table length=4</i>\n",
       "<table id=\"table140524129592368\" class=\"table-striped table-bordered table-condensed\">\n",
       "<thead><tr><th>CATAID</th><th>RA</th><th>DEC</th><th>Z</th><th>mass_stellar_best_fit</th><th>mass_dust_best_fit</th><th>SFR_0_1Gyr_best_fit</th><th>sSFR_0_1Gyr_best_fit</th><th>fb17_percentile50</th><th>fb18_percentile50</th><th>fb19_percentile50</th><th>fb29_percentile50</th><th>sfr17_percentile50</th><th>sfr18_percentile50</th><th>sfr19_percentile50</th><th>sfr29_percentile50</th></tr></thead>\n",
       "<thead><tr><th></th><th>deg</th><th>deg</th><th></th><th>solMass</th><th>solMass</th><th>solMass / yr</th><th>1 / yr</th><th></th><th></th><th></th><th></th><th>solMass / yr</th><th>solMass / yr</th><th>solMass / yr</th><th>solMass / yr</th></tr></thead>\n",
       "<thead><tr><th>int64</th><th>float64</th><th>float64</th><th>float32</th><th>float32</th><th>float32</th><th>float32</th><th>float32</th><th>float32</th><th>float32</th><th>float32</th><th>float32</th><th>float32</th><th>float32</th><th>float32</th><th>float32</th></tr></thead>\n",
       "<tr><td>7295</td><td>176.71879</td><td>0.64184</td><td>0.22951</td><td>46930000000.0</td><td>752200.0</td><td>0.04665</td><td>9.94e-13</td><td>0.0005</td><td>0.0005</td><td>0.0005</td><td>0.0005</td><td>-11.41</td><td>-11.4</td><td>-11.19</td><td>-10.7</td></tr>\n",
       "<tr><td>8123</td><td>180.59187</td><td>0.7585</td><td>0.23575</td><td>98410000000.0</td><td>1821000.0</td><td>0.2654</td><td>2.697e-12</td><td>0.0005</td><td>0.0005</td><td>0.0005</td><td>0.0005</td><td>-11.47</td><td>-11.45</td><td>-11.27</td><td>-10.9</td></tr>\n",
       "<tr><td>8716</td><td>183.63725</td><td>0.81274</td><td>0.308</td><td>36260000000.0</td><td>2205000.0</td><td>0.3728</td><td>1.028e-11</td><td>0.0005</td><td>0.0005</td><td>0.0005</td><td>0.4725</td><td>-10.78</td><td>-10.77</td><td>-10.56</td><td>-9.178</td></tr>\n",
       "<tr><td>14485</td><td>211.78927</td><td>0.72757</td><td>0.18342</td><td>99320000000.0</td><td>42690000.0</td><td>1.325</td><td>1.334e-11</td><td>0.0005</td><td>0.0005</td><td>0.0005</td><td>0.0335</td><td>-10.54</td><td>-10.53</td><td>-10.23</td><td>-10.19</td></tr>\n",
       "</table></div>"
      ],
      "text/plain": [
       "<Table length=4>\n",
       "CATAID     RA      DEC      Z    ... sfr17_percentile50 sfr18_percentile50 sfr19_percentile50 sfr29_percentile50\n",
       "          deg      deg           ...    solMass / yr       solMass / yr       solMass / yr       solMass / yr   \n",
       "int64   float64  float64 float32 ...      float32            float32            float32            float32      \n",
       "------ --------- ------- ------- ... ------------------ ------------------ ------------------ ------------------\n",
       "  7295 176.71879 0.64184 0.22951 ...             -11.41              -11.4             -11.19              -10.7\n",
       "  8123 180.59187  0.7585 0.23575 ...             -11.47             -11.45             -11.27              -10.9\n",
       "  8716 183.63725 0.81274   0.308 ...             -10.78             -10.77             -10.56             -9.178\n",
       " 14485 211.78927 0.72757 0.18342 ...             -10.54             -10.53             -10.23             -10.19"
      ]
     },
     "execution_count": 9,
     "metadata": {},
     "output_type": "execute_result"
    }
   ],
   "source": [
    "# Visualize the data table\n",
    "data_magphys[:4]"
   ]
  },
  {
   "cell_type": "markdown",
   "metadata": {},
   "source": [
    "----------"
   ]
  },
  {
   "cell_type": "markdown",
   "metadata": {},
   "source": [
    "Now, we work on joining the tables together based on the CATAIDs.\n",
    "\n",
    "Now, each normal galaxy entry (defined by its CATAID) has on the same row\n",
    "the SFR estimate from CIGALE and from MAGPHYS."
   ]
  },
  {
   "cell_type": "markdown",
   "metadata": {},
   "source": [
    "Join the tables for the relevant CATAIDs (Astropy **join** operation)."
   ]
  },
  {
   "cell_type": "code",
   "execution_count": 10,
   "metadata": {},
   "outputs": [],
   "source": [
    "data = join(data_cigale,data_magphys, keys='CATAID')"
   ]
  },
  {
   "cell_type": "code",
   "execution_count": 11,
   "metadata": {},
   "outputs": [
    {
     "data": {
      "text/html": [
       "<div><i>Table length=3</i>\n",
       "<table id=\"table140524129453536\" class=\"table-striped table-bordered table-condensed\">\n",
       "<thead><tr><th>CATAID</th><th>bayes.sfh.age_main</th><th>bayes.sfh.age_main_err</th><th>bayes.sfh.sfr</th><th>bayes.sfh.sfr_err</th><th>bayes.sfh.sfr100Myrs</th><th>bayes.sfh.sfr100Myrs_err</th><th>bayes.sfh.sfr10Myrs</th><th>bayes.sfh.sfr10Myrs_err</th><th>bayes.stellar.m_star</th><th>bayes.stellar.m_star_err</th><th>best.chi_square</th><th>best.reduced_chi_square</th><th>best.agn.fracAGN_dale2014</th><th>best.attenuation.E_BV_factor</th><th>best.attenuation.E_BV_lines</th><th>best.attenuation.E_BVs</th><th>best.attenuation.FUV</th><th>best.attenuation.powerlaw_slope</th><th>best.attenuation.uv_bump_amplitude</th><th>best.attenuation.uv_bump_wavelength</th><th>best.attenuation.uv_bump_width</th><th>best.dust.alpha</th><th>best.sfh.age</th><th>best.sfh.age_burst</th><th>best.sfh.age_main</th><th>best.sfh.f_burst</th><th>best.sfh.tau_burst</th><th>best.sfh.tau_main</th><th>best.stellar.age_m_star</th><th>best.stellar.imf</th><th>best.stellar.metallicity</th><th>best.stellar.old_young_separation_age</th><th>best.universe.age</th><th>best.universe.luminosity_distance</th><th>best.universe.redshift</th><th>best.dust.luminosity</th><th>best.sfh.integrated</th><th>best.sfh.sfr</th><th>best.sfh.sfr100Myrs</th><th>best.sfh.sfr10Myrs</th><th>best.stellar.lum</th><th>best.stellar.lum_ly</th><th>best.stellar.lum_ly_old</th><th>best.stellar.lum_ly_young</th><th>best.stellar.lum_old</th><th>best.stellar.lum_young</th><th>best.stellar.m_gas</th><th>best.stellar.m_gas_old</th><th>best.stellar.m_gas_young</th><th>best.stellar.m_star</th><th>best.stellar.m_star_old</th><th>best.stellar.m_star_young</th><th>best.stellar.n_ly</th><th>best.stellar.n_ly_old</th><th>best.stellar.n_ly_young</th><th>best.FUV</th><th>best.NUV</th><th>best.u_prime</th><th>best.g_prime</th><th>best.r_prime</th><th>best.i_prime</th><th>best.z_prime</th><th>best.Paranal_VISTA_Z_filter</th><th>best.Paranal_VISTA_Y_filter</th><th>best.Paranal_VISTA_J_filter</th><th>best.Paranal_VISTA_H_filter</th><th>best.Paranal_VISTA_Ks_filter</th><th>best.WISE1</th><th>best.WISE2</th><th>best.WISE3</th><th>best.WISE4</th><th>best.PACS_green</th><th>best.PACS_red</th><th>best.PSW_ext</th><th>best.PMW_ext</th><th>best.PLW_ext</th><th>RA</th><th>DEC</th><th>Z</th><th>mass_stellar_best_fit</th><th>mass_dust_best_fit</th><th>SFR_0_1Gyr_best_fit</th><th>sSFR_0_1Gyr_best_fit</th><th>fb17_percentile50</th><th>fb18_percentile50</th><th>fb19_percentile50</th><th>fb29_percentile50</th><th>sfr17_percentile50</th><th>sfr18_percentile50</th><th>sfr19_percentile50</th><th>sfr29_percentile50</th></tr></thead>\n",
       "<thead><tr><th></th><th>Myr</th><th>Myr</th><th>solMass / yr</th><th>solMass / yr</th><th>solMass / yr</th><th>solMass / yr</th><th>solMass / yr</th><th>solMass / yr</th><th>solMass</th><th>solMass</th><th></th><th></th><th></th><th></th><th>mag</th><th>mag</th><th>mag</th><th></th><th></th><th>nm</th><th>nm</th><th></th><th>Myr</th><th>Myr</th><th>Myr</th><th></th><th>Myr</th><th>Myr</th><th>Myr</th><th></th><th></th><th>Myr</th><th>Myr</th><th>m</th><th></th><th>W</th><th>solMass</th><th>solMass / yr</th><th>solMass / yr</th><th>solMass / yr</th><th>W</th><th>W</th><th>W</th><th>W</th><th>W</th><th>W</th><th>solMass</th><th>solMass</th><th>solMass</th><th>solMass</th><th>solMass</th><th>solMass</th><th>ph / s</th><th>ph / s</th><th>ph / s</th><th>mJy</th><th>mJy</th><th>mJy</th><th>mJy</th><th>mJy</th><th>mJy</th><th>mJy</th><th>mJy</th><th>mJy</th><th>mJy</th><th>mJy</th><th>mJy</th><th>mJy</th><th>mJy</th><th>mJy</th><th>mJy</th><th>mJy</th><th>mJy</th><th>mJy</th><th>mJy</th><th>mJy</th><th>deg</th><th>deg</th><th></th><th>solMass</th><th>solMass</th><th>solMass / yr</th><th>1 / yr</th><th></th><th></th><th></th><th></th><th>solMass / yr</th><th>solMass / yr</th><th>solMass / yr</th><th>solMass / yr</th></tr></thead>\n",
       "<thead><tr><th>int64</th><th>float64</th><th>float64</th><th>float64</th><th>float64</th><th>float64</th><th>float64</th><th>float64</th><th>float64</th><th>float64</th><th>float64</th><th>float64</th><th>float64</th><th>float64</th><th>float64</th><th>float64</th><th>float64</th><th>float64</th><th>float64</th><th>float64</th><th>float64</th><th>float64</th><th>float64</th><th>float64</th><th>float64</th><th>float64</th><th>float64</th><th>float64</th><th>float64</th><th>float64</th><th>float64</th><th>float64</th><th>float64</th><th>float64</th><th>float64</th><th>float64</th><th>float64</th><th>float64</th><th>float64</th><th>float64</th><th>float64</th><th>float64</th><th>float64</th><th>float64</th><th>float64</th><th>float64</th><th>float64</th><th>float64</th><th>float64</th><th>float64</th><th>float64</th><th>float64</th><th>float64</th><th>float64</th><th>float64</th><th>float64</th><th>float64</th><th>float64</th><th>float64</th><th>float64</th><th>float64</th><th>float64</th><th>float64</th><th>float64</th><th>float64</th><th>float64</th><th>float64</th><th>float64</th><th>float64</th><th>float64</th><th>float64</th><th>float64</th><th>float64</th><th>float64</th><th>float64</th><th>float64</th><th>float64</th><th>float64</th><th>float64</th><th>float32</th><th>float32</th><th>float32</th><th>float32</th><th>float32</th><th>float32</th><th>float32</th><th>float32</th><th>float32</th><th>float32</th><th>float32</th><th>float32</th><th>float32</th></tr></thead>\n",
       "<tr><td>7295</td><td>9324.49323167307</td><td>590.3363570111959</td><td>0.13337753730188573</td><td>0.06816537661650701</td><td>0.13941988903231986</td><td>0.07118569800217289</td><td>0.13391250238072244</td><td>0.06843298291763528</td><td>75347502355.91</td><td>4789210363.00404</td><td>4.266240944439845</td><td>0.21331204722199226</td><td>0.0</td><td>0.44</td><td>0.1</td><td>0.044000000000000004</td><td>0.473906206250691</td><td>-0.2</td><td>0.0</td><td>217.5</td><td>35.0</td><td>2.0</td><td>9000.0</td><td>50.0</td><td>9000.0</td><td>0.0</td><td>50.0</td><td>1000.0</td><td>6986.541931772296</td><td>1.0</td><td>0.02</td><td>10.0</td><td>11019.697167817974</td><td>3.5261350875814536e+25</td><td>0.22950999438762665</td><td>1.427037198531657e+36</td><td>135933819567.87445</td><td>0.15130117476267366</td><td>0.1581557150005561</td><td>0.15190805133274538</td><td>2.08447357210434e+37</td><td>1.28890473165179e+35</td><td>5.59891621392213e+34</td><td>7.29013110259577e+34</td><td>2.0469052708701232e+37</td><td>3.7568301234216586e+35</td><td>64531944701.54616</td><td>64531854471.854294</td><td>90229.69186933538</td><td>71401874865.87373</td><td>71400446015.50706</td><td>1428850.3666657296</td><td>3.42547007319675e+52</td><td>1.2174193811965494e+52</td><td>2.2080506920002008e+52</td><td>0.0009924059731090998</td><td>0.0012616898514302365</td><td>0.00461446398991896</td><td>0.027876263693897438</td><td>0.09108680599489014</td><td>0.1485729918533819</td><td>0.1962568983359533</td><td>0.18530308752015393</td><td>0.23873841293743048</td><td>0.33693064122485955</td><td>0.3883328578083225</td><td>0.4663804430970093</td><td>0.23243572768811918</td><td>0.16992725580936344</td><td>0.08550814553058815</td><td>0.07470652882635116</td><td>1.5551413991478216</td><td>2.0186479296084414</td><td>1.318778914029003</td><td>0.6501001773405274</td><td>0.23467134227506964</td><td>176.71879</td><td>0.64184</td><td>0.22951</td><td>46930000000.0</td><td>752200.0</td><td>0.04665</td><td>9.94e-13</td><td>0.0005</td><td>0.0005</td><td>0.0005</td><td>0.0005</td><td>-11.41</td><td>-11.4</td><td>-11.19</td><td>-10.7</td></tr>\n",
       "<tr><td>8123</td><td>9646.753199662126</td><td>487.5656563873294</td><td>0.226770374321801</td><td>0.09727710251569821</td><td>0.23710250505378447</td><td>0.10162680093924703</td><td>0.2276849600130694</td><td>0.097662371182098</td><td>175803392338.8815</td><td>9312348483.481167</td><td>9.709165960545224</td><td>0.4854582980272612</td><td>0.0</td><td>0.44</td><td>0.1</td><td>0.044000000000000004</td><td>0.47393301885503114</td><td>-0.2</td><td>0.0</td><td>217.5</td><td>35.0</td><td>2.0</td><td>10000.0</td><td>50.0</td><td>10000.0</td><td>0.0</td><td>50.0</td><td>1000.0</td><td>7985.283195137423</td><td>1.0</td><td>0.02</td><td>10.0</td><td>10956.492106221294</td><td>3.6351141531111846e+25</td><td>0.2357500046491623</td><td>3.0183604239063264e+36</td><td>346882016740.9182</td><td>0.157704797344203</td><td>0.16494217825560079</td><td>0.1583452961974298</td><td>4.715180779463281e+37</td><td>2.280350760955886e+35</td><td>1.5204702736482252e+35</td><td>7.59880487307661e+34</td><td>4.676021107188942e+37</td><td>3.915967227433875e+35</td><td>166212863982.83386</td><td>166212769927.3296</td><td>94055.5043023248</td><td>180669152757.6105</td><td>180667663360.6269</td><td>1489396.9836092934</td><td>5.627668305978607e+52</td><td>3.3261274452112515e+52</td><td>2.3015408607673557e+52</td><td>0.0011267742378329745</td><td>0.0014380004272845426</td><td>0.007645019591714975</td><td>0.053838609910425106</td><td>0.1877825619551626</td><td>0.313127927838075</td><td>0.4171695352104259</td><td>0.3913771588929407</td><td>0.5109913215563853</td><td>0.7349740538209191</td><td>0.851846876365218</td><td>1.0356598332899072</td><td>0.5143095062676459</td><td>0.38030105459297847</td><td>0.17977401067117837</td><td>0.1512629978776336</td><td>3.091135886969752</td><td>4.041173902293437</td><td>2.65978726791098</td><td>1.3169271200835062</td><td>0.47683129746465486</td><td>180.59187</td><td>0.7585</td><td>0.23575</td><td>98410000000.0</td><td>1821000.0</td><td>0.2654</td><td>2.697e-12</td><td>0.0005</td><td>0.0005</td><td>0.0005</td><td>0.0005</td><td>-11.47</td><td>-11.45</td><td>-11.27</td><td>-10.9</td></tr>\n",
       "<tr><td>8716</td><td>7988.429739685086</td><td>883.2187084334333</td><td>0.46595227781821613</td><td>0.3491703330924382</td><td>0.4975814857523729</td><td>0.36055638931349343</td><td>0.46825044842652835</td><td>0.3502992798642023</td><td>76233683329.44374</td><td>9683393473.501974</td><td>10.398340277185312</td><td>0.5199170138592656</td><td>0.0</td><td>0.44</td><td>0.4</td><td>0.17600000000000002</td><td>1.8795536327903948</td><td>-0.2</td><td>0.0</td><td>217.5</td><td>35.0</td><td>2.0</td><td>7000.0</td><td>500.0</td><td>7000.0</td><td>0.1</td><td>50.0</td><td>1000.0</td><td>4470.424051215918</td><td>1.0</td><td>0.02</td><td>10.0</td><td>10260.923754896832</td><td>4.941914538974858e+25</td><td>0.30799999833106995</td><td>1.0888803971016317e+37</td><td>114552460096.63167</td><td>0.6740006761952185</td><td>0.7256672199485704</td><td>0.6775749957991861</td><td>3.663414604258594e+37</td><td>3.771903928342562e+35</td><td>5.23010497565458e+34</td><td>3.248893430777104e+35</td><td>3.495913907150124e+37</td><td>1.6750069710846996e+36</td><td>51700865810.114555</td><td>51700463093.841354</td><td>402716.273206385</td><td>62851594284.48871</td><td>62845221252.83222</td><td>6373031.656486239</td><td>1.095994810744222e+53</td><td>1.1198016038343968e+52</td><td>9.84014650360782e+52</td><td>0.00042622885686892956</td><td>0.0015968773624995688</td><td>0.004170071384405882</td><td>0.01972288243735376</td><td>0.06089057494012756</td><td>0.09398485653876157</td><td>0.12321476327953904</td><td>0.11703582860183918</td><td>0.14879088074662805</td><td>0.20660756526358878</td><td>0.2521944525294689</td><td>0.3141188058846426</td><td>0.18895389538660481</td><td>0.13740159970673796</td><td>0.21085853553166298</td><td>0.2539342660695071</td><td>5.921287510687222</td><td>8.372049039880578</td><td>6.0023913106824285</td><td>3.1191060251544274</td><td>1.172817298505078</td><td>183.63725</td><td>0.81274</td><td>0.308</td><td>36260000000.0</td><td>2205000.0</td><td>0.3728</td><td>1.028e-11</td><td>0.0005</td><td>0.0005</td><td>0.0005</td><td>0.4725</td><td>-10.78</td><td>-10.77</td><td>-10.56</td><td>-9.178</td></tr>\n",
       "</table></div>"
      ],
      "text/plain": [
       "<Table length=3>\n",
       "CATAID bayes.sfh.age_main bayes.sfh.age_main_err ... sfr18_percentile50 sfr19_percentile50 sfr29_percentile50\n",
       "              Myr                  Myr           ...    solMass / yr       solMass / yr       solMass / yr   \n",
       "int64       float64              float64         ...      float32            float32            float32      \n",
       "------ ------------------ ---------------------- ... ------------------ ------------------ ------------------\n",
       "  7295   9324.49323167307      590.3363570111959 ...              -11.4             -11.19              -10.7\n",
       "  8123  9646.753199662126      487.5656563873294 ...             -11.45             -11.27              -10.9\n",
       "  8716  7988.429739685086      883.2187084334333 ...             -10.77             -10.56             -9.178"
      ]
     },
     "execution_count": 11,
     "metadata": {},
     "output_type": "execute_result"
    }
   ],
   "source": [
    "# Visualize\n",
    "data[:3]"
   ]
  },
  {
   "cell_type": "code",
   "execution_count": 12,
   "metadata": {},
   "outputs": [],
   "source": [
    "# end"
   ]
  },
  {
   "cell_type": "code",
   "execution_count": null,
   "metadata": {},
   "outputs": [],
   "source": []
  }
 ],
 "metadata": {
  "kernelspec": {
   "display_name": "Python 3 (ipykernel)",
   "language": "python",
   "name": "python3"
  },
  "language_info": {
   "codemirror_mode": {
    "name": "ipython",
    "version": 3
   },
   "file_extension": ".py",
   "mimetype": "text/x-python",
   "name": "python",
   "nbconvert_exporter": "python",
   "pygments_lexer": "ipython3",
   "version": "3.8.5"
  }
 },
 "nbformat": 4,
 "nbformat_minor": 2
}
