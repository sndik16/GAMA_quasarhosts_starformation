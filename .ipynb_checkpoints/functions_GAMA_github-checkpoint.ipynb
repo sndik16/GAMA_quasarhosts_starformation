{
 "cells": [
  {
   "cell_type": "code",
   "execution_count": 1,
   "metadata": {},
   "outputs": [],
   "source": [
    "import numpy as np\n",
    "from astropy.table import Table, join\n",
    "from astropy import units as u"
   ]
  },
  {
   "cell_type": "code",
   "execution_count": null,
   "metadata": {},
   "outputs": [],
   "source": [
    "# combine CIGALE and MAGPHYS table data for normal galaxies based on CATAID.\n",
    "\n",
    "def controlgxs_join_magphys_cigale_results(cigale_file, magphys_file, id_col='id'):\n",
    "    \n",
    "    \"\"\"\n",
    "    Join CIGALE and MAGPHYS tables for normal galaxies.\n",
    "    \n",
    "    Parameters\n",
    "    ----------\n",
    "    cigale_file : str\n",
    "        Path to the CIGALE results table.\n",
    "    magphys_file : str\n",
    "        Path to the MAGPHYS results table.\n",
    "    id_col : str\n",
    "        Column name in the CIGALE table to match with MAGPHYS (default 'id').\n",
    "    \n",
    "    \n",
    "    Returns\n",
    "    -------\n",
    "    astropy.table.Table\n",
    "        Joined table with all data.\n",
    "    \"\"\"\n",
    "    \n",
    "    # Open the CIGALE results table for normal galaxies.\n",
    "    \n",
    "    data_cigale = Table.read(cigale_file)\n",
    "\n",
    "    # We need to change the ID column name to 'CATAID', so that it matches \n",
    "    # the second datatable, so that we can combine the datatables based on\n",
    "    # the CATAID value.\n",
    "    \n",
    "    data_cigale.rename_column(id_col, 'CATAID')\n",
    "    \n",
    "    # Open the MAGPHYS data for normal galaxies.\n",
    "\n",
    "    data_magphys = Table.read(magphys_file)\n",
    "\n",
    "    '''\n",
    "    Now, we work on joining the tables together based on the CATAIDs.\n",
    "\n",
    "    Now, each normal galaxy entry (defined by its CATAID) has on the same row\n",
    "    the SFR estimate from CIGALE and from MAGPHYS.\n",
    "    '''\n",
    "    \n",
    "    # Join the tables for the relevant CATAIDs (Astropy **join** operation).\n",
    "    \n",
    "    data = join(data_cigale, data_magphys, keys='CATAID')\n",
    "    \n",
    "    return data\n"
   ]
  }
 ],
 "metadata": {
  "kernelspec": {
   "display_name": "Python 3 (ipykernel)",
   "language": "python",
   "name": "python3"
  },
  "language_info": {
   "codemirror_mode": {
    "name": "ipython",
    "version": 3
   },
   "file_extension": ".py",
   "mimetype": "text/x-python",
   "name": "python",
   "nbconvert_exporter": "python",
   "pygments_lexer": "ipython3",
   "version": "3.8.5"
  }
 },
 "nbformat": 4,
 "nbformat_minor": 2
}
