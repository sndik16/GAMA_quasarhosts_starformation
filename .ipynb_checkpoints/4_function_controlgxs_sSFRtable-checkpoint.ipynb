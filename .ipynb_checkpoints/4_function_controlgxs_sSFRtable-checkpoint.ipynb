{
 "cells": [
  {
   "cell_type": "markdown",
   "metadata": {},
   "source": [
    "GAMA Hosts paper\n",
    "\n",
    "Author: Maria B. Stone"
   ]
  },
  {
   "cell_type": "markdown",
   "metadata": {},
   "source": [
    "# Write a FUNCTION\n",
    "\n",
    "**This function will give a table with sSFR data from CIGALE and MAGPHYS for normal galaxies.**"
   ]
  },
  {
   "cell_type": "markdown",
   "metadata": {},
   "source": [
    "-------"
   ]
  },
  {
   "cell_type": "markdown",
   "metadata": {},
   "source": [
    "Here we import the necessary packages."
   ]
  },
  {
   "cell_type": "code",
   "execution_count": 1,
   "metadata": {},
   "outputs": [],
   "source": [
    "import numpy as np\n",
    "from astropy import units as u\n",
    "from astropy.table import Table, join\n",
    "\n",
    "from functions_GAMA import controlgxs_join_magphys_cigale_results\n",
    "\n",
    "# for plotting\n",
    "from matplotlib import pyplot as plt\n",
    "%matplotlib inline\n"
   ]
  },
  {
   "cell_type": "markdown",
   "metadata": {},
   "source": [
    "Data tables are stored in the directory '1_tables'.\n",
    "They will be called from inside it in the code."
   ]
  },
  {
   "cell_type": "code",
   "execution_count": 2,
   "metadata": {
    "scrolled": true
   },
   "outputs": [],
   "source": [
    "DATA_DIR = \"../1_tables/\""
   ]
  },
  {
   "cell_type": "markdown",
   "metadata": {},
   "source": [
    "Join the data from CIGALE and MAGPHYS for each normal galaxy in the control group, based on 'CATAID'."
   ]
  },
  {
   "cell_type": "code",
   "execution_count": 3,
   "metadata": {},
   "outputs": [],
   "source": [
    "# Specify the file containing the data from CIGALE for normal galaxies\n",
    "cigale_file = DATA_DIR + 'results_galaxies.fits'\n",
    "#cigale_file = Table.read(DATA_DIR + 'table_data_controlgxs_cigale_subsample.fits')"
   ]
  },
  {
   "cell_type": "code",
   "execution_count": 4,
   "metadata": {
    "scrolled": true
   },
   "outputs": [],
   "source": [
    "# Specify the file with MAGPHYS data for a single set of normal galaxies, which is our control\n",
    "magphys_file = DATA_DIR + '12_data_seed_gals_set199_magphys.fits'\n",
    "#magphys_file = Table.read(DATA_DIR + 'table_data_controlgxs_magphys_subsample.fits')"
   ]
  },
  {
   "cell_type": "code",
   "execution_count": 5,
   "metadata": {},
   "outputs": [],
   "source": [
    "# Join the tables\n",
    "data = controlgxs_join_magphys_cigale_results(cigale_file, magphys_file, id_col='id')"
   ]
  },
  {
   "cell_type": "code",
   "execution_count": 6,
   "metadata": {},
   "outputs": [
    {
     "data": {
      "text/html": [
       "<div><i>Table length=3</i>\n",
       "<table id=\"table140391484378176\" class=\"table-striped table-bordered table-condensed\">\n",
       "<thead><tr><th>CATAID</th><th>bayes.sfh.age_main</th><th>bayes.sfh.age_main_err</th><th>bayes.sfh.sfr</th><th>bayes.sfh.sfr_err</th><th>bayes.sfh.sfr100Myrs</th><th>bayes.sfh.sfr100Myrs_err</th><th>bayes.sfh.sfr10Myrs</th><th>bayes.sfh.sfr10Myrs_err</th><th>bayes.stellar.m_star</th><th>bayes.stellar.m_star_err</th><th>best.chi_square</th><th>best.reduced_chi_square</th><th>best.agn.fracAGN_dale2014</th><th>best.attenuation.E_BV_factor</th><th>best.attenuation.E_BV_lines</th><th>best.attenuation.E_BVs</th><th>best.attenuation.FUV</th><th>best.attenuation.powerlaw_slope</th><th>best.attenuation.uv_bump_amplitude</th><th>best.attenuation.uv_bump_wavelength</th><th>best.attenuation.uv_bump_width</th><th>best.dust.alpha</th><th>best.sfh.age</th><th>best.sfh.age_burst</th><th>best.sfh.age_main</th><th>best.sfh.f_burst</th><th>best.sfh.tau_burst</th><th>best.sfh.tau_main</th><th>best.stellar.age_m_star</th><th>best.stellar.imf</th><th>best.stellar.metallicity</th><th>best.stellar.old_young_separation_age</th><th>best.universe.age</th><th>best.universe.luminosity_distance</th><th>best.universe.redshift</th><th>best.dust.luminosity</th><th>best.sfh.integrated</th><th>best.sfh.sfr</th><th>best.sfh.sfr100Myrs</th><th>best.sfh.sfr10Myrs</th><th>best.stellar.lum</th><th>best.stellar.lum_ly</th><th>best.stellar.lum_ly_old</th><th>best.stellar.lum_ly_young</th><th>best.stellar.lum_old</th><th>best.stellar.lum_young</th><th>best.stellar.m_gas</th><th>best.stellar.m_gas_old</th><th>best.stellar.m_gas_young</th><th>best.stellar.m_star</th><th>best.stellar.m_star_old</th><th>best.stellar.m_star_young</th><th>best.stellar.n_ly</th><th>best.stellar.n_ly_old</th><th>best.stellar.n_ly_young</th><th>best.FUV</th><th>best.NUV</th><th>best.u_prime</th><th>best.g_prime</th><th>best.r_prime</th><th>best.i_prime</th><th>best.z_prime</th><th>best.Paranal_VISTA_Z_filter</th><th>best.Paranal_VISTA_Y_filter</th><th>best.Paranal_VISTA_J_filter</th><th>best.Paranal_VISTA_H_filter</th><th>best.Paranal_VISTA_Ks_filter</th><th>best.WISE1</th><th>best.WISE2</th><th>best.WISE3</th><th>best.WISE4</th><th>best.PACS_green</th><th>best.PACS_red</th><th>best.PSW_ext</th><th>best.PMW_ext</th><th>best.PLW_ext</th><th>RA</th><th>DEC</th><th>Z</th><th>mass_stellar_best_fit</th><th>mass_dust_best_fit</th><th>SFR_0_1Gyr_best_fit</th><th>sSFR_0_1Gyr_best_fit</th><th>fb17_percentile50</th><th>fb18_percentile50</th><th>fb19_percentile50</th><th>fb29_percentile50</th><th>sfr17_percentile50</th><th>sfr18_percentile50</th><th>sfr19_percentile50</th><th>sfr29_percentile50</th></tr></thead>\n",
       "<thead><tr><th></th><th>Myr</th><th>Myr</th><th>solMass / yr</th><th>solMass / yr</th><th>solMass / yr</th><th>solMass / yr</th><th>solMass / yr</th><th>solMass / yr</th><th>solMass</th><th>solMass</th><th></th><th></th><th></th><th></th><th>mag</th><th>mag</th><th>mag</th><th></th><th></th><th>nm</th><th>nm</th><th></th><th>Myr</th><th>Myr</th><th>Myr</th><th></th><th>Myr</th><th>Myr</th><th>Myr</th><th></th><th></th><th>Myr</th><th>Myr</th><th>m</th><th></th><th>W</th><th>solMass</th><th>solMass / yr</th><th>solMass / yr</th><th>solMass / yr</th><th>W</th><th>W</th><th>W</th><th>W</th><th>W</th><th>W</th><th>solMass</th><th>solMass</th><th>solMass</th><th>solMass</th><th>solMass</th><th>solMass</th><th>ph / s</th><th>ph / s</th><th>ph / s</th><th>mJy</th><th>mJy</th><th>mJy</th><th>mJy</th><th>mJy</th><th>mJy</th><th>mJy</th><th>mJy</th><th>mJy</th><th>mJy</th><th>mJy</th><th>mJy</th><th>mJy</th><th>mJy</th><th>mJy</th><th>mJy</th><th>mJy</th><th>mJy</th><th>mJy</th><th>mJy</th><th>mJy</th><th>deg</th><th>deg</th><th></th><th>solMass</th><th>solMass</th><th>solMass / yr</th><th>1 / yr</th><th></th><th></th><th></th><th></th><th>solMass / yr</th><th>solMass / yr</th><th>solMass / yr</th><th>solMass / yr</th></tr></thead>\n",
       "<thead><tr><th>int64</th><th>float64</th><th>float64</th><th>float64</th><th>float64</th><th>float64</th><th>float64</th><th>float64</th><th>float64</th><th>float64</th><th>float64</th><th>float64</th><th>float64</th><th>float64</th><th>float64</th><th>float64</th><th>float64</th><th>float64</th><th>float64</th><th>float64</th><th>float64</th><th>float64</th><th>float64</th><th>float64</th><th>float64</th><th>float64</th><th>float64</th><th>float64</th><th>float64</th><th>float64</th><th>float64</th><th>float64</th><th>float64</th><th>float64</th><th>float64</th><th>float64</th><th>float64</th><th>float64</th><th>float64</th><th>float64</th><th>float64</th><th>float64</th><th>float64</th><th>float64</th><th>float64</th><th>float64</th><th>float64</th><th>float64</th><th>float64</th><th>float64</th><th>float64</th><th>float64</th><th>float64</th><th>float64</th><th>float64</th><th>float64</th><th>float64</th><th>float64</th><th>float64</th><th>float64</th><th>float64</th><th>float64</th><th>float64</th><th>float64</th><th>float64</th><th>float64</th><th>float64</th><th>float64</th><th>float64</th><th>float64</th><th>float64</th><th>float64</th><th>float64</th><th>float64</th><th>float64</th><th>float64</th><th>float64</th><th>float64</th><th>float64</th><th>float32</th><th>float32</th><th>float32</th><th>float32</th><th>float32</th><th>float32</th><th>float32</th><th>float32</th><th>float32</th><th>float32</th><th>float32</th><th>float32</th><th>float32</th></tr></thead>\n",
       "<tr><td>7295</td><td>9324.49323167307</td><td>590.3363570111959</td><td>0.13337753730188573</td><td>0.06816537661650701</td><td>0.13941988903231986</td><td>0.07118569800217289</td><td>0.13391250238072244</td><td>0.06843298291763528</td><td>75347502355.91</td><td>4789210363.00404</td><td>4.266240944439845</td><td>0.21331204722199226</td><td>0.0</td><td>0.44</td><td>0.1</td><td>0.044000000000000004</td><td>0.473906206250691</td><td>-0.2</td><td>0.0</td><td>217.5</td><td>35.0</td><td>2.0</td><td>9000.0</td><td>50.0</td><td>9000.0</td><td>0.0</td><td>50.0</td><td>1000.0</td><td>6986.541931772296</td><td>1.0</td><td>0.02</td><td>10.0</td><td>11019.697167817974</td><td>3.5261350875814536e+25</td><td>0.22950999438762665</td><td>1.427037198531657e+36</td><td>135933819567.87445</td><td>0.15130117476267366</td><td>0.1581557150005561</td><td>0.15190805133274538</td><td>2.08447357210434e+37</td><td>1.28890473165179e+35</td><td>5.59891621392213e+34</td><td>7.29013110259577e+34</td><td>2.0469052708701232e+37</td><td>3.7568301234216586e+35</td><td>64531944701.54616</td><td>64531854471.854294</td><td>90229.69186933538</td><td>71401874865.87373</td><td>71400446015.50706</td><td>1428850.3666657296</td><td>3.42547007319675e+52</td><td>1.2174193811965494e+52</td><td>2.2080506920002008e+52</td><td>0.0009924059731090998</td><td>0.0012616898514302365</td><td>0.00461446398991896</td><td>0.027876263693897438</td><td>0.09108680599489014</td><td>0.1485729918533819</td><td>0.1962568983359533</td><td>0.18530308752015393</td><td>0.23873841293743048</td><td>0.33693064122485955</td><td>0.3883328578083225</td><td>0.4663804430970093</td><td>0.23243572768811918</td><td>0.16992725580936344</td><td>0.08550814553058815</td><td>0.07470652882635116</td><td>1.5551413991478216</td><td>2.0186479296084414</td><td>1.318778914029003</td><td>0.6501001773405274</td><td>0.23467134227506964</td><td>176.71879</td><td>0.64184</td><td>0.22951</td><td>46930000000.0</td><td>752200.0</td><td>0.04665</td><td>9.94e-13</td><td>0.0005</td><td>0.0005</td><td>0.0005</td><td>0.0005</td><td>-11.41</td><td>-11.4</td><td>-11.19</td><td>-10.7</td></tr>\n",
       "<tr><td>8123</td><td>9646.753199662126</td><td>487.5656563873294</td><td>0.226770374321801</td><td>0.09727710251569821</td><td>0.23710250505378447</td><td>0.10162680093924703</td><td>0.2276849600130694</td><td>0.097662371182098</td><td>175803392338.8815</td><td>9312348483.481167</td><td>9.709165960545224</td><td>0.4854582980272612</td><td>0.0</td><td>0.44</td><td>0.1</td><td>0.044000000000000004</td><td>0.47393301885503114</td><td>-0.2</td><td>0.0</td><td>217.5</td><td>35.0</td><td>2.0</td><td>10000.0</td><td>50.0</td><td>10000.0</td><td>0.0</td><td>50.0</td><td>1000.0</td><td>7985.283195137423</td><td>1.0</td><td>0.02</td><td>10.0</td><td>10956.492106221294</td><td>3.6351141531111846e+25</td><td>0.2357500046491623</td><td>3.0183604239063264e+36</td><td>346882016740.9182</td><td>0.157704797344203</td><td>0.16494217825560079</td><td>0.1583452961974298</td><td>4.715180779463281e+37</td><td>2.280350760955886e+35</td><td>1.5204702736482252e+35</td><td>7.59880487307661e+34</td><td>4.676021107188942e+37</td><td>3.915967227433875e+35</td><td>166212863982.83386</td><td>166212769927.3296</td><td>94055.5043023248</td><td>180669152757.6105</td><td>180667663360.6269</td><td>1489396.9836092934</td><td>5.627668305978607e+52</td><td>3.3261274452112515e+52</td><td>2.3015408607673557e+52</td><td>0.0011267742378329745</td><td>0.0014380004272845426</td><td>0.007645019591714975</td><td>0.053838609910425106</td><td>0.1877825619551626</td><td>0.313127927838075</td><td>0.4171695352104259</td><td>0.3913771588929407</td><td>0.5109913215563853</td><td>0.7349740538209191</td><td>0.851846876365218</td><td>1.0356598332899072</td><td>0.5143095062676459</td><td>0.38030105459297847</td><td>0.17977401067117837</td><td>0.1512629978776336</td><td>3.091135886969752</td><td>4.041173902293437</td><td>2.65978726791098</td><td>1.3169271200835062</td><td>0.47683129746465486</td><td>180.59187</td><td>0.7585</td><td>0.23575</td><td>98410000000.0</td><td>1821000.0</td><td>0.2654</td><td>2.697e-12</td><td>0.0005</td><td>0.0005</td><td>0.0005</td><td>0.0005</td><td>-11.47</td><td>-11.45</td><td>-11.27</td><td>-10.9</td></tr>\n",
       "<tr><td>8716</td><td>7988.429739685086</td><td>883.2187084334333</td><td>0.46595227781821613</td><td>0.3491703330924382</td><td>0.4975814857523729</td><td>0.36055638931349343</td><td>0.46825044842652835</td><td>0.3502992798642023</td><td>76233683329.44374</td><td>9683393473.501974</td><td>10.398340277185312</td><td>0.5199170138592656</td><td>0.0</td><td>0.44</td><td>0.4</td><td>0.17600000000000002</td><td>1.8795536327903948</td><td>-0.2</td><td>0.0</td><td>217.5</td><td>35.0</td><td>2.0</td><td>7000.0</td><td>500.0</td><td>7000.0</td><td>0.1</td><td>50.0</td><td>1000.0</td><td>4470.424051215918</td><td>1.0</td><td>0.02</td><td>10.0</td><td>10260.923754896832</td><td>4.941914538974858e+25</td><td>0.30799999833106995</td><td>1.0888803971016317e+37</td><td>114552460096.63167</td><td>0.6740006761952185</td><td>0.7256672199485704</td><td>0.6775749957991861</td><td>3.663414604258594e+37</td><td>3.771903928342562e+35</td><td>5.23010497565458e+34</td><td>3.248893430777104e+35</td><td>3.495913907150124e+37</td><td>1.6750069710846996e+36</td><td>51700865810.114555</td><td>51700463093.841354</td><td>402716.273206385</td><td>62851594284.48871</td><td>62845221252.83222</td><td>6373031.656486239</td><td>1.095994810744222e+53</td><td>1.1198016038343968e+52</td><td>9.84014650360782e+52</td><td>0.00042622885686892956</td><td>0.0015968773624995688</td><td>0.004170071384405882</td><td>0.01972288243735376</td><td>0.06089057494012756</td><td>0.09398485653876157</td><td>0.12321476327953904</td><td>0.11703582860183918</td><td>0.14879088074662805</td><td>0.20660756526358878</td><td>0.2521944525294689</td><td>0.3141188058846426</td><td>0.18895389538660481</td><td>0.13740159970673796</td><td>0.21085853553166298</td><td>0.2539342660695071</td><td>5.921287510687222</td><td>8.372049039880578</td><td>6.0023913106824285</td><td>3.1191060251544274</td><td>1.172817298505078</td><td>183.63725</td><td>0.81274</td><td>0.308</td><td>36260000000.0</td><td>2205000.0</td><td>0.3728</td><td>1.028e-11</td><td>0.0005</td><td>0.0005</td><td>0.0005</td><td>0.4725</td><td>-10.78</td><td>-10.77</td><td>-10.56</td><td>-9.178</td></tr>\n",
       "</table></div>"
      ],
      "text/plain": [
       "<Table length=3>\n",
       "CATAID bayes.sfh.age_main bayes.sfh.age_main_err ... sfr18_percentile50 sfr19_percentile50 sfr29_percentile50\n",
       "              Myr                  Myr           ...    solMass / yr       solMass / yr       solMass / yr   \n",
       "int64       float64              float64         ...      float32            float32            float32      \n",
       "------ ------------------ ---------------------- ... ------------------ ------------------ ------------------\n",
       "  7295   9324.49323167307      590.3363570111959 ...              -11.4             -11.19              -10.7\n",
       "  8123  9646.753199662126      487.5656563873294 ...             -11.45             -11.27              -10.9\n",
       "  8716  7988.429739685086      883.2187084334333 ...             -10.77             -10.56             -9.178"
      ]
     },
     "execution_count": 6,
     "metadata": {},
     "output_type": "execute_result"
    }
   ],
   "source": [
    "# Visualize the first few entries\n",
    "data[:3]"
   ]
  },
  {
   "cell_type": "code",
   "execution_count": 7,
   "metadata": {
    "scrolled": true
   },
   "outputs": [
    {
     "name": "stdout",
     "output_type": "stream",
     "text": [
      "<Table length=205>\n",
      "                 name                  dtype      unit        class    \n",
      "------------------------------------- ------- ------------ ------------\n",
      "                               CATAID   int64              MaskedColumn\n",
      "                   bayes.sfh.age_main float64          Myr       Column\n",
      "               bayes.sfh.age_main_err float64          Myr       Column\n",
      "                        bayes.sfh.sfr float64 solMass / yr       Column\n",
      "                    bayes.sfh.sfr_err float64 solMass / yr       Column\n",
      "                 bayes.sfh.sfr100Myrs float64 solMass / yr       Column\n",
      "             bayes.sfh.sfr100Myrs_err float64 solMass / yr       Column\n",
      "                  bayes.sfh.sfr10Myrs float64 solMass / yr       Column\n",
      "              bayes.sfh.sfr10Myrs_err float64 solMass / yr       Column\n",
      "                 bayes.stellar.m_star float64      solMass       Column\n",
      "             bayes.stellar.m_star_err float64      solMass       Column\n",
      "                      best.chi_square float64                    Column\n",
      "              best.reduced_chi_square float64                    Column\n",
      "            best.agn.fracAGN_dale2014 float64                    Column\n",
      "         best.attenuation.E_BV_factor float64                    Column\n",
      "          best.attenuation.E_BV_lines float64          mag       Column\n",
      "               best.attenuation.E_BVs float64          mag       Column\n",
      "                 best.attenuation.FUV float64          mag       Column\n",
      "      best.attenuation.powerlaw_slope float64                    Column\n",
      "   best.attenuation.uv_bump_amplitude float64                    Column\n",
      "  best.attenuation.uv_bump_wavelength float64           nm       Column\n",
      "       best.attenuation.uv_bump_width float64           nm       Column\n",
      "                      best.dust.alpha float64                    Column\n",
      "                         best.sfh.age float64          Myr       Column\n",
      "                   best.sfh.age_burst float64          Myr       Column\n",
      "                    best.sfh.age_main float64          Myr       Column\n",
      "                     best.sfh.f_burst float64                    Column\n",
      "                   best.sfh.tau_burst float64          Myr       Column\n",
      "                    best.sfh.tau_main float64          Myr       Column\n",
      "              best.stellar.age_m_star float64          Myr       Column\n",
      "                     best.stellar.imf float64                    Column\n",
      "             best.stellar.metallicity float64                    Column\n",
      "best.stellar.old_young_separation_age float64          Myr       Column\n",
      "                    best.universe.age float64          Myr       Column\n",
      "    best.universe.luminosity_distance float64            m       Column\n",
      "               best.universe.redshift float64                    Column\n",
      "                 best.dust.luminosity float64            W       Column\n",
      "                  best.sfh.integrated float64      solMass       Column\n",
      "                         best.sfh.sfr float64 solMass / yr       Column\n",
      "                  best.sfh.sfr100Myrs float64 solMass / yr       Column\n",
      "                   best.sfh.sfr10Myrs float64 solMass / yr       Column\n",
      "                     best.stellar.lum float64            W       Column\n",
      "                  best.stellar.lum_ly float64            W       Column\n",
      "              best.stellar.lum_ly_old float64            W       Column\n",
      "            best.stellar.lum_ly_young float64            W       Column\n",
      "                 best.stellar.lum_old float64            W       Column\n",
      "               best.stellar.lum_young float64            W       Column\n",
      "                   best.stellar.m_gas float64      solMass       Column\n",
      "               best.stellar.m_gas_old float64      solMass       Column\n",
      "             best.stellar.m_gas_young float64      solMass       Column\n",
      "                  best.stellar.m_star float64      solMass       Column\n",
      "              best.stellar.m_star_old float64      solMass       Column\n",
      "            best.stellar.m_star_young float64      solMass       Column\n",
      "                    best.stellar.n_ly float64       ph / s       Column\n",
      "                best.stellar.n_ly_old float64       ph / s       Column\n",
      "              best.stellar.n_ly_young float64       ph / s       Column\n",
      "                             best.FUV float64          mJy       Column\n",
      "                             best.NUV float64          mJy       Column\n",
      "                         best.u_prime float64          mJy       Column\n",
      "                         best.g_prime float64          mJy       Column\n",
      "                         best.r_prime float64          mJy       Column\n",
      "                         best.i_prime float64          mJy       Column\n",
      "                         best.z_prime float64          mJy       Column\n",
      "          best.Paranal_VISTA_Z_filter float64          mJy       Column\n",
      "          best.Paranal_VISTA_Y_filter float64          mJy       Column\n",
      "          best.Paranal_VISTA_J_filter float64          mJy       Column\n",
      "          best.Paranal_VISTA_H_filter float64          mJy       Column\n",
      "         best.Paranal_VISTA_Ks_filter float64          mJy       Column\n",
      "                           best.WISE1 float64          mJy       Column\n",
      "                           best.WISE2 float64          mJy       Column\n",
      "                           best.WISE3 float64          mJy       Column\n",
      "                           best.WISE4 float64          mJy       Column\n",
      "                      best.PACS_green float64          mJy       Column\n",
      "                        best.PACS_red float64          mJy       Column\n",
      "                         best.PSW_ext float64          mJy       Column\n",
      "                         best.PMW_ext float64          mJy       Column\n",
      "                         best.PLW_ext float64          mJy       Column\n",
      "                                   RA float64          deg       Column\n",
      "                                  DEC float64          deg       Column\n",
      "                                    Z float32                    Column\n",
      "                mass_stellar_best_fit float32      solMass       Column\n",
      "                   mass_dust_best_fit float32      solMass       Column\n",
      "                  SFR_0_1Gyr_best_fit float32 solMass / yr       Column\n",
      "                 sSFR_0_1Gyr_best_fit float32       1 / yr       Column\n",
      "                    fb17_percentile50 float32                    Column\n",
      "                    fb18_percentile50 float32                    Column\n",
      "                    fb19_percentile50 float32                    Column\n",
      "                    fb29_percentile50 float32                    Column\n",
      "                   sfr17_percentile50 float32 solMass / yr       Column\n",
      "                   sfr18_percentile50 float32 solMass / yr       Column\n",
      "                   sfr19_percentile50 float32 solMass / yr       Column\n",
      "                   sfr29_percentile50 float32 solMass / yr       Column\n"
     ]
    }
   ],
   "source": [
    "data.info()"
   ]
  },
  {
   "cell_type": "markdown",
   "metadata": {},
   "source": [
    "----------"
   ]
  },
  {
   "cell_type": "markdown",
   "metadata": {},
   "source": [
    "Now that we have everything organized, let's pull the sSFR data that we need."
   ]
  },
  {
   "cell_type": "markdown",
   "metadata": {},
   "source": [
    "First get the data for MAGPHYS estimate for sSFR for a normal galaxy"
   ]
  },
  {
   "cell_type": "code",
   "execution_count": 8,
   "metadata": {},
   "outputs": [],
   "source": [
    "sSFR_magphys = data['sSFR_0_1Gyr_best_fit']"
   ]
  },
  {
   "cell_type": "code",
   "execution_count": 9,
   "metadata": {},
   "outputs": [
    {
     "data": {
      "text/plain": [
       "(array([196.,   6.,   2.,   0.,   0.,   0.,   0.,   0.,   0.,   1.]),\n",
       " array([1.7670000e-14, 3.2141589e-10, 6.4281414e-10, 9.6421238e-10,\n",
       "        1.2856106e-09, 1.6070089e-09, 1.9284070e-09, 2.2498052e-09,\n",
       "        2.5712035e-09, 2.8926017e-09, 3.2140000e-09], dtype=float32),\n",
       " <BarContainer object of 10 artists>)"
      ]
     },
     "execution_count": 9,
     "metadata": {},
     "output_type": "execute_result"
    },
    {
     "data": {
      "image/png": "[encoded data removed]",
      "text/plain": [
       "<Figure size 640x480 with 1 Axes>"
      ]
     },
     "metadata": {},
     "output_type": "display_data"
    }
   ],
   "source": [
    "# The data catalogs I downloaded had some confusion \n",
    "# between the documentation and the actual numbers, so I check with a histogram.\n",
    "# In particular to make sure these are not log values already.\n",
    "\n",
    "plt.hist(sSFR_magphys)"
   ]
  },
  {
   "cell_type": "markdown",
   "metadata": {},
   "source": [
    "For CIGALE, we need to calculate ourselves, \n",
    "\n",
    "``` mathematica \n",
    "specefic SFR = SFR / stellar Mass \n",
    "```"
   ]
  },
  {
   "cell_type": "code",
   "execution_count": 10,
   "metadata": {},
   "outputs": [],
   "source": [
    "#SFR estimate from CIGALE\n",
    "sfr_cigale = data['bayes.sfh.sfr']\n",
    "\n",
    "#Mass estimate from CIGALE\n",
    "mass_cigale = data['bayes.stellar.m_star']\n",
    "\n",
    "# Calculate the sSFR based on the formula above\n",
    "sSFR_cigale_value = sfr_cigale.value / mass_cigale.value\n",
    "\n",
    "# Above I had to do some mambo-jambo, because \n",
    "# if I just simply do sfr_cigale/mass_cigale, \n",
    "# the units come out wrong. So I assign them explicitely."
   ]
  },
  {
   "cell_type": "code",
   "execution_count": 11,
   "metadata": {},
   "outputs": [
    {
     "data": {
      "text/plain": [
       "(array([ 5., 15., 28., 26., 23., 22., 24., 25., 28.,  9.]),\n",
       " array([-1.53822696, -1.26395024, -0.98967352, -0.71539681, -0.44112009,\n",
       "        -0.16684337,  0.10743335,  0.38171007,  0.65598678,  0.9302635 ,\n",
       "         1.20454022]),\n",
       " <BarContainer object of 10 artists>)"
      ]
     },
     "execution_count": 11,
     "metadata": {},
     "output_type": "execute_result"
    },
    {
     "data": {
      "image/png": "[encoded data removed]",
      "text/plain": [
       "<Figure size 640x480 with 1 Axes>"
      ]
     },
     "metadata": {},
     "output_type": "display_data"
    }
   ],
   "source": [
    "# Check the range of values via histogram visualization here as well for CIGALE.\n",
    "plt.hist(np.log10(sfr_cigale))"
   ]
  },
  {
   "cell_type": "code",
   "execution_count": 12,
   "metadata": {},
   "outputs": [
    {
     "data": {
      "text/plain": [
       "(array([126.,  28.,  16.,  15.,  10.,   4.,   4.,   0.,   0.,   2.]),\n",
       " array([ 0.0289583 ,  1.62761142,  3.22626455,  4.82491768,  6.4235708 ,\n",
       "         8.02222393,  9.62087705, 11.21953018, 12.81818331, 14.41683643,\n",
       "        16.01548956]),\n",
       " <BarContainer object of 10 artists>)"
      ]
     },
     "execution_count": 12,
     "metadata": {},
     "output_type": "execute_result"
    },
    {
     "data": {
      "image/png": "[encoded data removed]",
      "text/plain": [
       "<Figure size 640x480 with 1 Axes>"
      ]
     },
     "metadata": {},
     "output_type": "display_data"
    }
   ],
   "source": [
    "plt.hist(sfr_cigale)"
   ]
  },
  {
   "cell_type": "markdown",
   "metadata": {},
   "source": [
    "Calculate the log10 values"
   ]
  },
  {
   "cell_type": "code",
   "execution_count": 13,
   "metadata": {},
   "outputs": [],
   "source": [
    "sSFR_cigale_log_value = np.log10(sSFR_cigale_value)\n",
    "sSFR_magphys_log = np.log10(sSFR_magphys)"
   ]
  },
  {
   "cell_type": "code",
   "execution_count": 14,
   "metadata": {},
   "outputs": [
    {
     "data": {
      "text/plain": [
       "(array([ 2.,  3., 15., 23., 28., 28., 52., 37., 16.,  1.]),\n",
       " array([-13.752764, -13.226783, -12.700802, -12.174821, -11.64884 ,\n",
       "        -11.122859, -10.596878, -10.070897,  -9.544916,  -9.018935,\n",
       "         -8.492954], dtype=float32),\n",
       " <BarContainer object of 10 artists>)"
      ]
     },
     "execution_count": 14,
     "metadata": {},
     "output_type": "execute_result"
    },
    {
     "data": {
      "image/png": "[encoded data removed]",
      "text/plain": [
       "<Figure size 640x480 with 1 Axes>"
      ]
     },
     "metadata": {},
     "output_type": "display_data"
    }
   ],
   "source": [
    "plt.hist(sSFR_magphys_log)"
   ]
  },
  {
   "cell_type": "code",
   "execution_count": 15,
   "metadata": {},
   "outputs": [
    {
     "data": {
      "text/plain": [
       "(array([27., 27., 28., 22.,  7., 10., 32., 28., 17.,  7.]),\n",
       " array([-12.05893751, -11.77126502, -11.48359253, -11.19592004,\n",
       "        -10.90824755, -10.62057506, -10.33290257, -10.04523008,\n",
       "         -9.75755759,  -9.4698851 ,  -9.18221261]),\n",
       " <BarContainer object of 10 artists>)"
      ]
     },
     "execution_count": 15,
     "metadata": {},
     "output_type": "execute_result"
    },
    {
     "data": {
      "image/png": "[encoded data removed]",
      "text/plain": [
       "<Figure size 640x480 with 1 Axes>"
      ]
     },
     "metadata": {},
     "output_type": "display_data"
    }
   ],
   "source": [
    "plt.hist(sSFR_cigale_log_value)"
   ]
  },
  {
   "cell_type": "code",
   "execution_count": 16,
   "metadata": {},
   "outputs": [
    {
     "name": "stdout",
     "output_type": "stream",
     "text": [
      "class:  Column\n",
      "shape:  (205,)\n",
      "strides:  (8,)\n",
      "itemsize:  8\n",
      "aligned:  True\n",
      "contiguous:  True\n",
      "fortran:  True\n",
      "data pointer: 0x7faf69e0a600\n",
      "byteorder:  big\n",
      "byteswap:  True\n",
      "type: >f8\n"
     ]
    }
   ],
   "source": [
    "# Check the resultant array for at least one case\n",
    "# I note that it has the correct shape\n",
    "np.info(sfr_cigale)\n",
    "\n",
    "# I like to visualize as I go, \n",
    "# because I want to make sure I understand what is happening to my giant table arrasy :P"
   ]
  },
  {
   "cell_type": "markdown",
   "metadata": {},
   "source": [
    "We create a table for working with sSFR of normal galaxies and save it."
   ]
  },
  {
   "cell_type": "code",
   "execution_count": 17,
   "metadata": {},
   "outputs": [],
   "source": [
    "sSFR_table = Table()\n",
    "\n",
    "sSFR_table['CATAID'] = np.copy(data['CATAID'])\n",
    "sSFR_table['log_sSFR_cigale'] = sSFR_cigale_log_value * (1/u.yr) # I specify the unit\n",
    "sSFR_table['log_sSFR_magphys'] = sSFR_magphys_log"
   ]
  },
  {
   "cell_type": "code",
   "execution_count": 18,
   "metadata": {},
   "outputs": [
    {
     "data": {
      "text/html": [
       "<div><i>Table length=3</i>\n",
       "<table id=\"table140391493116448\" class=\"table-striped table-bordered table-condensed\">\n",
       "<thead><tr><th>CATAID</th><th>log_sSFR_cigale</th><th>log_sSFR_magphys</th></tr></thead>\n",
       "<thead><tr><th></th><th>1 / yr</th><th>1 / yr</th></tr></thead>\n",
       "<thead><tr><th>int64</th><th>float64</th><th>float32</th></tr></thead>\n",
       "<tr><td>7295</td><td>-11.75198616645755</td><td>-12.002614</td></tr>\n",
       "<tr><td>8123</td><td>-11.889440934119206</td><td>-11.569119</td></tr>\n",
       "<tr><td>8716</td><td>-11.213805464645946</td><td>-10.988007</td></tr>\n",
       "</table></div>"
      ],
      "text/plain": [
       "<Table length=3>\n",
       "CATAID   log_sSFR_cigale   log_sSFR_magphys\n",
       "              1 / yr            1 / yr     \n",
       "int64        float64           float32     \n",
       "------ ------------------- ----------------\n",
       "  7295  -11.75198616645755       -12.002614\n",
       "  8123 -11.889440934119206       -11.569119\n",
       "  8716 -11.213805464645946       -10.988007"
      ]
     },
     "execution_count": 18,
     "metadata": {},
     "output_type": "execute_result"
    }
   ],
   "source": [
    "#Visualize the first few lines of the table\n",
    "sSFR_table[:3]"
   ]
  },
  {
   "cell_type": "code",
   "execution_count": 19,
   "metadata": {},
   "outputs": [
    {
     "data": {
      "text/plain": [
       "[<matplotlib.lines.Line2D at 0x7faf71174640>]"
      ]
     },
     "execution_count": 19,
     "metadata": {},
     "output_type": "execute_result"
    },
    {
     "data": {
      "image/png": "[encoded data removed]",
      "text/plain": [
       "<Figure size 640x480 with 1 Axes>"
      ]
     },
     "metadata": {},
     "output_type": "display_data"
    }
   ],
   "source": [
    "# Visualize on a plot to make sure the data is consistent , no log10 mismatch\n",
    "\n",
    "plt.plot (sSFR_table['log_sSFR_cigale'], sSFR_table['log_sSFR_magphys'], 'b*')"
   ]
  },
  {
   "cell_type": "code",
   "execution_count": 20,
   "metadata": {},
   "outputs": [],
   "source": [
    "# End"
   ]
  },
  {
   "cell_type": "code",
   "execution_count": null,
   "metadata": {},
   "outputs": [],
   "source": []
  },
  {
   "cell_type": "code",
   "execution_count": null,
   "metadata": {},
   "outputs": [],
   "source": []
  },
  {
   "cell_type": "code",
   "execution_count": null,
   "metadata": {},
   "outputs": [],
   "source": []
  }
 ],
 "metadata": {
  "kernelspec": {
   "display_name": "Python 3 (ipykernel)",
   "language": "python",
   "name": "python3"
  },
  "language_info": {
   "codemirror_mode": {
    "name": "ipython",
    "version": 3
   },
   "file_extension": ".py",
   "mimetype": "text/x-python",
   "name": "python",
   "nbconvert_exporter": "python",
   "pygments_lexer": "ipython3",
   "version": "3.8.5"
  }
 },
 "nbformat": 4,
 "nbformat_minor": 2
}
