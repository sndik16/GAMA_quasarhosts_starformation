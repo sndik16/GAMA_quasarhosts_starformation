{
 "cells": [
  {
   "cell_type": "markdown",
   "metadata": {},
   "source": [
    "GAMA Hosts paper\n",
    "\n",
    "Author: Maria B. Stone"
   ]
  },
  {
   "cell_type": "markdown",
   "metadata": {},
   "source": [
    "# sSFR correction curve Check\n",
    "\n",
    "**This code will fit a Chebyshev polynomial to sSFR offset median points, and check it visually.**"
   ]
  },
  {
   "cell_type": "markdown",
   "metadata": {},
   "source": [
    "-------"
   ]
  },
  {
   "cell_type": "markdown",
   "metadata": {},
   "source": [
    "Here we import the necessary packages."
   ]
  },
  {
   "cell_type": "code",
   "execution_count": 2,
   "metadata": {},
   "outputs": [],
   "source": [
    "import numpy as np\n",
    "from astropy import units as u\n",
    "from astropy.table import Table, join\n",
    "\n",
    "from functions_GAMA_github import controlgxs_join_magphys_cigale_results\n",
    "from functions_GAMA_github import median_e_bootstrap\n",
    "\n",
    "#for Chebyshev fit\n",
    "from numpy.polynomial import Chebyshev\n",
    "\n",
    "\n",
    "# for plotting\n",
    "from matplotlib import pyplot as plt\n",
    "%matplotlib inline\n"
   ]
  },
  {
   "cell_type": "markdown",
   "metadata": {},
   "source": [
    "Data tables are stored in the directory '1_tables'.\n",
    "They will be called from inside it in the code."
   ]
  },
  {
   "cell_type": "code",
   "execution_count": 4,
   "metadata": {
    "scrolled": true
   },
   "outputs": [],
   "source": [
    "DATA_DIR = \"../1_tables/\""
   ]
  },
  {
   "cell_type": "markdown",
   "metadata": {},
   "source": [
    "Get the binned median points data for sSFR."
   ]
  },
  {
   "cell_type": "code",
   "execution_count": 5,
   "metadata": {},
   "outputs": [],
   "source": [
    "data = Table.read(DATA_DIR + 'table_data_controlgxs_sSFR_bins.fits')"
   ]
  },
  {
   "cell_type": "code",
   "execution_count": 6,
   "metadata": {},
   "outputs": [
    {
     "data": {
      "text/html": [
       "<div><i>Table length=4</i>\n",
       "<table id=\"table140612720508544\" class=\"table-striped table-bordered table-condensed\">\n",
       "<thead><tr><th>gx_sSFRCIGALE_bins</th><th>bin_median_offset</th><th>bin_median_err</th><th>bin_weight</th></tr></thead>\n",
       "<thead><tr><th>float64</th><th>float64</th><th>float64</th><th>float64</th></tr></thead>\n",
       "<tr><td>-12.5</td><td>0.16705660394103283</td><td>0.23143975303513134</td><td>4.320778893365849</td></tr>\n",
       "<tr><td>-11.5</td><td>-0.11078074337187704</td><td>0.05994477901368154</td><td>16.682019959932862</td></tr>\n",
       "<tr><td>-10.5</td><td>-0.03837997540581384</td><td>0.030032990354360443</td><td>33.29671764952342</td></tr>\n",
       "<tr><td>-9.5</td><td>-0.07691934041565851</td><td>0.030032990354360443</td><td>33.29671764952342</td></tr>\n",
       "</table></div>"
      ],
      "text/plain": [
       "<Table length=4>\n",
       "gx_sSFRCIGALE_bins  bin_median_offset      bin_median_err        bin_weight    \n",
       "     float64             float64              float64             float64      \n",
       "------------------ -------------------- -------------------- ------------------\n",
       "             -12.5  0.16705660394103283  0.23143975303513134  4.320778893365849\n",
       "             -11.5 -0.11078074337187704  0.05994477901368154 16.682019959932862\n",
       "             -10.5 -0.03837997540581384 0.030032990354360443  33.29671764952342\n",
       "              -9.5 -0.07691934041565851 0.030032990354360443  33.29671764952342"
      ]
     },
     "execution_count": 6,
     "metadata": {},
     "output_type": "execute_result"
    }
   ],
   "source": [
    "#Visualize the table\n",
    "data"
   ]
  },
  {
   "cell_type": "code",
   "execution_count": 7,
   "metadata": {},
   "outputs": [],
   "source": [
    "# identify the bin properties variables for ease of operation\n",
    "\n",
    "bin_xpoints = data['gx_sSFRCIGALE_bins']\n",
    "medians = data['bin_median_offset']\n",
    "med_err = data['bin_median_err']\n",
    "weights = data['bin_weight']"
   ]
  },
  {
   "cell_type": "code",
   "execution_count": 8,
   "metadata": {},
   "outputs": [],
   "source": [
    "# Chebyshev fit\n",
    "\n",
    "degree=2\n",
    "\n",
    "cheb_curve_sSFR = \\\n",
    "            Chebyshev.fit(bin_xpoints, medians, deg=degree, w=weights)"
   ]
  },
  {
   "cell_type": "code",
   "execution_count": 9,
   "metadata": {},
   "outputs": [
    {
     "name": "stdout",
     "output_type": "stream",
     "text": [
      "Fitted range: -12.5 -9.5\n"
     ]
    }
   ],
   "source": [
    "# Get the fitted range (domain)\n",
    "domain_x_min, domain_x_max = cheb_curve_sSFR.domain\n",
    "print(\"Fitted range:\", domain_x_min, domain_x_max)"
   ]
  },
  {
   "cell_type": "code",
   "execution_count": 10,
   "metadata": {},
   "outputs": [],
   "source": [
    "# correction curve visualization\n",
    "points_x_cheb = np.arange(-12.5,-9.49,0.1)\n",
    "points_y_cheb = cheb_curve_sSFR(points_x_cheb)"
   ]
  },
  {
   "cell_type": "code",
   "execution_count": 11,
   "metadata": {},
   "outputs": [
    {
     "data": {
      "image/png": "[encoded data removed]",
      "text/plain": [
       "<Figure size 1000x600 with 1 Axes>"
      ]
     },
     "metadata": {},
     "output_type": "display_data"
    }
   ],
   "source": [
    "plt.figure(figsize=(10,6))\n",
    "\n",
    "plt.errorbar(bin_xpoints, medians, med_err, ms=7, color='red', ls='none', barsabove='True')\n",
    "plt.plot(bin_xpoints, medians, 'ro', ms=7)\n",
    "\n",
    "plt.plot(points_x_cheb, points_y_cheb, 'k-')\n",
    "\n",
    "\n",
    "plt.xlim(-13,-9)\n",
    "plt.ylim(-1, 1)\n",
    "\n",
    "plt.xlabel('CIGALE sSFR')\n",
    "plt.ylabel('SFR offsets (CIGALE-MAGPHYS)')\n",
    "\n",
    "plt.grid()"
   ]
  },
  {
   "cell_type": "code",
   "execution_count": 12,
   "metadata": {},
   "outputs": [],
   "source": [
    "# Evaluate the reasonableness of the fit."
   ]
  },
  {
   "cell_type": "code",
   "execution_count": null,
   "metadata": {},
   "outputs": [],
   "source": []
  },
  {
   "cell_type": "code",
   "execution_count": null,
   "metadata": {},
   "outputs": [],
   "source": []
  },
  {
   "cell_type": "code",
   "execution_count": null,
   "metadata": {},
   "outputs": [],
   "source": []
  },
  {
   "cell_type": "code",
   "execution_count": 12,
   "metadata": {},
   "outputs": [],
   "source": [
    "# End"
   ]
  }
 ],
 "metadata": {
  "kernelspec": {
   "display_name": "Python 3 (ipykernel)",
   "language": "python",
   "name": "python3"
  },
  "language_info": {
   "codemirror_mode": {
    "name": "ipython",
    "version": 3
   },
   "file_extension": ".py",
   "mimetype": "text/x-python",
   "name": "python",
   "nbconvert_exporter": "python",
   "pygments_lexer": "ipython3",
   "version": "3.8.5"
  }
 },
 "nbformat": 4,
 "nbformat_minor": 2
}
