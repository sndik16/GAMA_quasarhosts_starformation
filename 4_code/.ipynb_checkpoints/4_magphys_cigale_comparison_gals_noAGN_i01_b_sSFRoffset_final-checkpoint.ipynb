{
 "cells": [
  {
   "cell_type": "markdown",
   "metadata": {},
   "source": [
    "GAMA Hosts paper\n",
    "\n",
    "Author: Maria B. Stone"
   ]
  },
  {
   "cell_type": "markdown",
   "metadata": {},
   "source": [
    "# Get a table with sSFR offset data for normal galaxies\n",
    "\n",
    "**This code will give a table with sSFR offset data (CIGALE-MAGPHYS) for normal galaxies.**"
   ]
  },
  {
   "cell_type": "markdown",
   "metadata": {},
   "source": [
    "-------"
   ]
  },
  {
   "cell_type": "markdown",
   "metadata": {},
   "source": [
    "Here we import the necessary packages."
   ]
  },
  {
   "cell_type": "code",
   "execution_count": 1,
   "metadata": {},
   "outputs": [],
   "source": [
    "import numpy as np\n",
    "from astropy import units as u\n",
    "from astropy.table import Table, join\n",
    "\n",
    "from functions_GAMA import controlgxs_join_magphys_cigale_results\n",
    "\n",
    "# for plotting\n",
    "from matplotlib import pyplot as plt\n",
    "%matplotlib inline\n"
   ]
  },
  {
   "cell_type": "code",
   "execution_count": 2,
   "metadata": {},
   "outputs": [
    {
     "data": {
      "text/plain": [
       "'/Volumes/Gyumri_HD/ARCHIVE/phd/17PhDResearch/GAMA_hosts/4_code'"
      ]
     },
     "execution_count": 2,
     "metadata": {},
     "output_type": "execute_result"
    }
   ],
   "source": [
    "%pwd"
   ]
  },
  {
   "cell_type": "markdown",
   "metadata": {},
   "source": [
    "Data tables are stored in the directory '1_tables'.\n",
    "They will be called from inside it in the code."
   ]
  },
  {
   "cell_type": "code",
   "execution_count": 3,
   "metadata": {
    "scrolled": true
   },
   "outputs": [],
   "source": [
    "DATA_DIR = \"../1_tables/\""
   ]
  },
  {
   "cell_type": "markdown",
   "metadata": {},
   "source": [
    "Get the Specific Star Formation Rate (sSFR) data table."
   ]
  },
  {
   "cell_type": "code",
   "execution_count": 4,
   "metadata": {},
   "outputs": [],
   "source": [
    "data = Table.read(DATA_DIR + 'table_data_controlgxs_sSFR.fits')"
   ]
  },
  {
   "cell_type": "code",
   "execution_count": 5,
   "metadata": {},
   "outputs": [
    {
     "data": {
      "text/html": [
       "<div><i>Table length=3</i>\n",
       "<table id=\"table140432307289920\" class=\"table-striped table-bordered table-condensed\">\n",
       "<thead><tr><th>CATAID</th><th>log_sSFR_cigale</th><th>log_sSFR_magphys</th></tr></thead>\n",
       "<thead><tr><th></th><th>1 / yr</th><th>1 / yr</th></tr></thead>\n",
       "<thead><tr><th>int64</th><th>float64</th><th>float32</th></tr></thead>\n",
       "<tr><td>7295</td><td>-11.75198616645755</td><td>-12.002614</td></tr>\n",
       "<tr><td>8123</td><td>-11.889440934119206</td><td>-11.569119</td></tr>\n",
       "<tr><td>8716</td><td>-11.213805464645946</td><td>-10.988007</td></tr>\n",
       "</table></div>"
      ],
      "text/plain": [
       "<Table length=3>\n",
       "CATAID   log_sSFR_cigale   log_sSFR_magphys\n",
       "              1 / yr            1 / yr     \n",
       "int64        float64           float32     \n",
       "------ ------------------- ----------------\n",
       "  7295  -11.75198616645755       -12.002614\n",
       "  8123 -11.889440934119206       -11.569119\n",
       "  8716 -11.213805464645946       -10.988007"
      ]
     },
     "execution_count": 5,
     "metadata": {},
     "output_type": "execute_result"
    }
   ],
   "source": [
    "#Visualize the table\n",
    "data[:3]"
   ]
  },
  {
   "cell_type": "markdown",
   "metadata": {},
   "source": [
    "-------"
   ]
  },
  {
   "cell_type": "markdown",
   "metadata": {},
   "source": [
    "Now, we calculate the sSFR offsets\n",
    "\n",
    "``` mathematica \n",
    "sSFR_offset = log10(SFR(CIGALE)) - log10(SFR(MAGPHYS)) \n",
    "```"
   ]
  },
  {
   "cell_type": "code",
   "execution_count": 6,
   "metadata": {},
   "outputs": [],
   "source": [
    "data['offset_sSFR'] = data['log_sSFR_cigale'] - data['log_sSFR_magphys']"
   ]
  },
  {
   "cell_type": "code",
   "execution_count": 7,
   "metadata": {},
   "outputs": [
    {
     "data": {
      "text/html": [
       "<div><i>Table length=3</i>\n",
       "<table id=\"table140432307648016\" class=\"table-striped table-bordered table-condensed\">\n",
       "<thead><tr><th>CATAID</th><th>log_sSFR_cigale</th><th>log_sSFR_magphys</th><th>offset_sSFR</th></tr></thead>\n",
       "<thead><tr><th></th><th>1 / yr</th><th>1 / yr</th><th>1 / yr</th></tr></thead>\n",
       "<thead><tr><th>int64</th><th>float64</th><th>float32</th><th>float64</th></tr></thead>\n",
       "<tr><td>7295</td><td>-11.75198616645755</td><td>-12.002614</td><td>0.2506278548437191</td></tr>\n",
       "<tr><td>8123</td><td>-11.889440934119206</td><td>-11.569119</td><td>-0.32032148068902977</td></tr>\n",
       "<tr><td>8716</td><td>-11.213805464645946</td><td>-10.988007</td><td>-0.22579887284907052</td></tr>\n",
       "</table></div>"
      ],
      "text/plain": [
       "<Table length=3>\n",
       "CATAID   log_sSFR_cigale   log_sSFR_magphys     offset_sSFR     \n",
       "              1 / yr            1 / yr             1 / yr       \n",
       "int64        float64           float32            float64       \n",
       "------ ------------------- ---------------- --------------------\n",
       "  7295  -11.75198616645755       -12.002614   0.2506278548437191\n",
       "  8123 -11.889440934119206       -11.569119 -0.32032148068902977\n",
       "  8716 -11.213805464645946       -10.988007 -0.22579887284907052"
      ]
     },
     "execution_count": 7,
     "metadata": {},
     "output_type": "execute_result"
    }
   ],
   "source": [
    "# Visualize again the resultant table\n",
    "data[:3]"
   ]
  },
  {
   "cell_type": "code",
   "execution_count": 9,
   "metadata": {},
   "outputs": [],
   "source": [
    "# Save the table\n",
    "data.write(DATA_DIR + 'table_data_controlgxs_sSFRoffsets.fits', overwrite=True)"
   ]
  },
  {
   "cell_type": "code",
   "execution_count": 10,
   "metadata": {},
   "outputs": [],
   "source": [
    "# End"
   ]
  },
  {
   "cell_type": "code",
   "execution_count": null,
   "metadata": {},
   "outputs": [],
   "source": []
  },
  {
   "cell_type": "code",
   "execution_count": null,
   "metadata": {},
   "outputs": [],
   "source": []
  }
 ],
 "metadata": {
  "kernelspec": {
   "display_name": "Python 3 (ipykernel)",
   "language": "python",
   "name": "python3"
  },
  "language_info": {
   "codemirror_mode": {
    "name": "ipython",
    "version": 3
   },
   "file_extension": ".py",
   "mimetype": "text/x-python",
   "name": "python",
   "nbconvert_exporter": "python",
   "pygments_lexer": "ipython3",
   "version": "3.8.5"
  }
 },
 "nbformat": 4,
 "nbformat_minor": 2
}
