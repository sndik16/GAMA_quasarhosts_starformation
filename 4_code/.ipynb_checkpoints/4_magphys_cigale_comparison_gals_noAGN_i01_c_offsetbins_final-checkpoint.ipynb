{
 "cells": [
  {
   "cell_type": "markdown",
   "metadata": {},
   "source": [
    "GAMA Hosts paper\n",
    "\n",
    "Author: Maria B. Stone"
   ]
  },
  {
   "cell_type": "markdown",
   "metadata": {},
   "source": [
    "# Binning the offset sSFR data\n",
    "\n",
    "**This code will calculate the offset medians per bin (dex) for sSFR of control galaxies.**"
   ]
  },
  {
   "cell_type": "markdown",
   "metadata": {},
   "source": [
    "-------"
   ]
  },
  {
   "cell_type": "markdown",
   "metadata": {},
   "source": [
    "Here we import the necessary packages."
   ]
  },
  {
   "cell_type": "code",
   "execution_count": 1,
   "metadata": {},
   "outputs": [],
   "source": [
    "import numpy as np\n",
    "from astropy import units as u\n",
    "from astropy.table import Table, join\n",
    "\n",
    "from functions_GAMA import controlgxs_join_magphys_cigale_results\n",
    "from functions_GAMA import median_e_bootstrap\n",
    "\n",
    "# for plotting\n",
    "from matplotlib import pyplot as plt\n",
    "%matplotlib inline\n"
   ]
  },
  {
   "cell_type": "code",
   "execution_count": 2,
   "metadata": {},
   "outputs": [
    {
     "data": {
      "text/plain": [
       "'/Volumes/Gyumri_HD/ARCHIVE/phd/17PhDResearch/GAMA_hosts/4_code'"
      ]
     },
     "execution_count": 2,
     "metadata": {},
     "output_type": "execute_result"
    }
   ],
   "source": [
    "%pwd"
   ]
  },
  {
   "cell_type": "markdown",
   "metadata": {},
   "source": [
    "Data tables are stored in the directory '1_tables'.\n",
    "They will be called from inside it in the code."
   ]
  },
  {
   "cell_type": "code",
   "execution_count": 3,
   "metadata": {
    "scrolled": true
   },
   "outputs": [],
   "source": [
    "DATA_DIR = \"../1_tables/\""
   ]
  },
  {
   "cell_type": "markdown",
   "metadata": {},
   "source": [
    "Get the Specific Star Formation Rate (sSFR) data table."
   ]
  },
  {
   "cell_type": "code",
   "execution_count": 4,
   "metadata": {},
   "outputs": [],
   "source": [
    "data = Table.read(DATA_DIR + 'table_data_controlgxs_sSFRoffsets.fits')"
   ]
  },
  {
   "cell_type": "code",
   "execution_count": 5,
   "metadata": {},
   "outputs": [
    {
     "data": {
      "text/html": [
       "<div><i>Table length=3</i>\n",
       "<table id=\"table140474183246512\" class=\"table-striped table-bordered table-condensed\">\n",
       "<thead><tr><th>CATAID</th><th>log_sSFR_cigale</th><th>log_sSFR_magphys</th><th>offset_sSFR</th></tr></thead>\n",
       "<thead><tr><th></th><th>1 / yr</th><th>1 / yr</th><th>1 / yr</th></tr></thead>\n",
       "<thead><tr><th>int64</th><th>float64</th><th>float32</th><th>float64</th></tr></thead>\n",
       "<tr><td>7295</td><td>-11.75198616645755</td><td>-12.002614</td><td>0.2506278548437191</td></tr>\n",
       "<tr><td>8123</td><td>-11.889440934119206</td><td>-11.569119</td><td>-0.32032148068902977</td></tr>\n",
       "<tr><td>8716</td><td>-11.213805464645946</td><td>-10.988007</td><td>-0.22579887284907052</td></tr>\n",
       "</table></div>"
      ],
      "text/plain": [
       "<Table length=3>\n",
       "CATAID   log_sSFR_cigale   log_sSFR_magphys     offset_sSFR     \n",
       "              1 / yr            1 / yr             1 / yr       \n",
       "int64        float64           float32            float64       \n",
       "------ ------------------- ---------------- --------------------\n",
       "  7295  -11.75198616645755       -12.002614   0.2506278548437191\n",
       "  8123 -11.889440934119206       -11.569119 -0.32032148068902977\n",
       "  8716 -11.213805464645946       -10.988007 -0.22579887284907052"
      ]
     },
     "execution_count": 5,
     "metadata": {},
     "output_type": "execute_result"
    }
   ],
   "source": [
    "#Visualize the table\n",
    "data[:3]"
   ]
  },
  {
   "cell_type": "markdown",
   "metadata": {},
   "source": [
    "-------"
   ]
  },
  {
   "cell_type": "markdown",
   "metadata": {},
   "source": [
    "Now, we crate a visual plot to help with the calculation, for bins, etc."
   ]
  },
  {
   "cell_type": "code",
   "execution_count": 6,
   "metadata": {},
   "outputs": [],
   "source": [
    "cigale = data['log_sSFR_cigale']\n",
    "offsets = data['offset_sSFR']"
   ]
  },
  {
   "cell_type": "code",
   "execution_count": 7,
   "metadata": {},
   "outputs": [
    {
     "data": {
      "image/png": "[encoded data removed]",
      "text/plain": [
       "<Figure size 640x480 with 1 Axes>"
      ]
     },
     "metadata": {},
     "output_type": "display_data"
    }
   ],
   "source": [
    "plt.plot(cigale, offsets, 'm*')\n",
    "\n",
    "plt.xlim(-13,-8)\n",
    "plt.ylim(-2, 4)\n",
    "\n",
    "plt.xlabel('CIGALE sSFR')\n",
    "\n",
    "plt.grid()"
   ]
  },
  {
   "cell_type": "code",
   "execution_count": 8,
   "metadata": {},
   "outputs": [],
   "source": [
    "# Define the indices for each bin (Previously I did this with Excel, which was I think visually easier :*)\n",
    "\n",
    "bin1_idx = np.where((cigale>=-13) & (cigale<-12))[0]\n",
    "bin2_idx = np.where((cigale>=-12) & (cigale<-11))[0]\n",
    "bin3_idx = np.where((cigale>=-11) & (cigale<-10))[0]\n",
    "bin4_idx = np.where((cigale>=-10) & (cigale<-9))[0]"
   ]
  },
  {
   "cell_type": "code",
   "execution_count": 9,
   "metadata": {},
   "outputs": [],
   "source": [
    "# obtain the data for each bin\n",
    "bin1_data = offsets[bin1_idx]\n",
    "bin2_data = offsets[bin2_idx]\n",
    "bin3_data = offsets[bin3_idx]\n",
    "bin4_data = offsets[bin4_idx]"
   ]
  },
  {
   "cell_type": "code",
   "execution_count": 10,
   "metadata": {},
   "outputs": [],
   "source": [
    "# Create a function to compute medians and median uncertainties for each bin.\n",
    "# The uncertainty is estimated with bootstrap\n",
    "\n",
    "def bin_med_err(bin_data, bin_err_N_boot):\n",
    "    \n",
    "    '''\n",
    "    Get bin median and median uncertainty.\n",
    "    bin_data is the data array of that bin\n",
    "    bin_err_N_boot is the number for bootstrap calculation, e.g., 1000\n",
    "    '''\n",
    "    \n",
    "    \n",
    "    # compute median in a bin\n",
    "    \n",
    "    bin_median = np.median(bin_data)\n",
    "    \n",
    "    \n",
    "    # compute a bootstrap-based uncertainty in each bin\n",
    "    \n",
    "    bin_err = median_e_bootstrap(bin_data, bin_err_N_boot)\n",
    "    \n",
    "    \n",
    "    return bin_median, bin_err"
   ]
  },
  {
   "cell_type": "code",
   "execution_count": 11,
   "metadata": {},
   "outputs": [],
   "source": [
    "# Calculate the medians and their uncertainty\n",
    "\n",
    "N_boot = 1000\n",
    "\n",
    "bin1_med, bin1_err = bin_med_err(bin1_data, N_boot)\n",
    "bin2_med, bin2_err = bin_med_err(bin2_data, N_boot)\n",
    "bin3_med, bin3_err = bin_med_err(bin3_data, N_boot)\n",
    "bin4_med, bin4_err = bin_med_err(bin4_data, N_boot)"
   ]
  },
  {
   "cell_type": "code",
   "execution_count": 12,
   "metadata": {},
   "outputs": [],
   "source": [
    "# Pool the median data into arrays for plotting\n",
    "\n",
    "medians = np.array([bin1_med,bin2_med, bin3_med, bin4_med])\n",
    "med_err = np.array([bin1_err, bin2_err, bin3_err, bin3_err])\n",
    "bin_xpoints = np.array([-12.5, -11.5, -10.5, -9.5])"
   ]
  },
  {
   "cell_type": "code",
   "execution_count": 13,
   "metadata": {},
   "outputs": [
    {
     "data": {
      "image/png": "[encoded data removed]",
      "text/plain": [
       "<Figure size 1000x600 with 1 Axes>"
      ]
     },
     "metadata": {},
     "output_type": "display_data"
    }
   ],
   "source": [
    "plt.figure(figsize=(10,6))\n",
    "\n",
    "plt.plot(cigale, offsets, 'b*')\n",
    "plt.errorbar(bin_xpoints, medians, med_err, ms=7, color='red', ls='none', barsabove='True')\n",
    "plt.plot(bin_xpoints, medians, 'ro', ms=7)\n",
    "\n",
    "plt.xlim(-13,-8)\n",
    "plt.ylim(-2, 4)\n",
    "\n",
    "plt.xlabel('CIGALE sSFR')\n",
    "plt.ylabel('SFR offsets (CIGALE-MAGPHYS)')\n",
    "\n",
    "plt.grid()"
   ]
  },
  {
   "cell_type": "markdown",
   "metadata": {},
   "source": [
    "Let's make a table with the bin data."
   ]
  },
  {
   "cell_type": "code",
   "execution_count": 14,
   "metadata": {},
   "outputs": [],
   "source": [
    "bin_points = Table()\n",
    "bin_points['gx_sSFRCIGALE_bins'] = bin_xpoints\n",
    "bin_points['bin_median_offset'] = medians\n",
    "bin_points['bin_median_err'] = med_err\n",
    "\n",
    "# compute weights for Chebyshev fit\n",
    "weights_ssfr = 1/med_err\n",
    "bin_points['bin_weight'] = weights_ssfr "
   ]
  },
  {
   "cell_type": "code",
   "execution_count": 15,
   "metadata": {},
   "outputs": [],
   "source": [
    "#Visualize the Table"
   ]
  },
  {
   "cell_type": "code",
   "execution_count": 16,
   "metadata": {},
   "outputs": [
    {
     "data": {
      "text/html": [
       "<div><i>Table length=4</i>\n",
       "<table id=\"table140474189680448\" class=\"table-striped table-bordered table-condensed\">\n",
       "<thead><tr><th>gx_sSFRCIGALE_bins</th><th>bin_median_offset</th><th>bin_median_err</th><th>bin_weight</th></tr></thead>\n",
       "<thead><tr><th>float64</th><th>float64</th><th>float64</th><th>float64</th></tr></thead>\n",
       "<tr><td>-12.5</td><td>0.16705660394103283</td><td>0.23143975303513134</td><td>4.320778893365849</td></tr>\n",
       "<tr><td>-11.5</td><td>-0.11078074337187704</td><td>0.05994477901368154</td><td>16.682019959932862</td></tr>\n",
       "<tr><td>-10.5</td><td>-0.03837997540581384</td><td>0.030032990354360443</td><td>33.29671764952342</td></tr>\n",
       "<tr><td>-9.5</td><td>-0.07691934041565851</td><td>0.030032990354360443</td><td>33.29671764952342</td></tr>\n",
       "</table></div>"
      ],
      "text/plain": [
       "<Table length=4>\n",
       "gx_sSFRCIGALE_bins  bin_median_offset      bin_median_err        bin_weight    \n",
       "     float64             float64              float64             float64      \n",
       "------------------ -------------------- -------------------- ------------------\n",
       "             -12.5  0.16705660394103283  0.23143975303513134  4.320778893365849\n",
       "             -11.5 -0.11078074337187704  0.05994477901368154 16.682019959932862\n",
       "             -10.5 -0.03837997540581384 0.030032990354360443  33.29671764952342\n",
       "              -9.5 -0.07691934041565851 0.030032990354360443  33.29671764952342"
      ]
     },
     "execution_count": 16,
     "metadata": {},
     "output_type": "execute_result"
    }
   ],
   "source": [
    "bin_points"
   ]
  },
  {
   "cell_type": "code",
   "execution_count": 17,
   "metadata": {},
   "outputs": [],
   "source": [
    "# Save the Table of sSFR Bin points\n",
    "bin_points.write(DATA_DIR + 'table_data_controlgxs_sSFR_bins.fits', overwrite=True)"
   ]
  },
  {
   "cell_type": "code",
   "execution_count": 18,
   "metadata": {},
   "outputs": [],
   "source": [
    "# End"
   ]
  },
  {
   "cell_type": "code",
   "execution_count": null,
   "metadata": {},
   "outputs": [],
   "source": []
  },
  {
   "cell_type": "code",
   "execution_count": null,
   "metadata": {},
   "outputs": [],
   "source": []
  },
  {
   "cell_type": "code",
   "execution_count": null,
   "metadata": {},
   "outputs": [],
   "source": []
  },
  {
   "cell_type": "code",
   "execution_count": null,
   "metadata": {},
   "outputs": [],
   "source": []
  },
  {
   "cell_type": "code",
   "execution_count": 19,
   "metadata": {},
   "outputs": [],
   "source": [
    "# End"
   ]
  }
 ],
 "metadata": {
  "kernelspec": {
   "display_name": "Python 3 (ipykernel)",
   "language": "python",
   "name": "python3"
  },
  "language_info": {
   "codemirror_mode": {
    "name": "ipython",
    "version": 3
   },
   "file_extension": ".py",
   "mimetype": "text/x-python",
   "name": "python",
   "nbconvert_exporter": "python",
   "pygments_lexer": "ipython3",
   "version": "3.8.5"
  }
 },
 "nbformat": 4,
 "nbformat_minor": 2
}
