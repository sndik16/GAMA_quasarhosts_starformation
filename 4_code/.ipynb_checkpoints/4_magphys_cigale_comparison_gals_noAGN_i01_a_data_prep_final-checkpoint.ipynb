{
 "cells": [
  {
   "cell_type": "markdown",
   "metadata": {},
   "source": [
    "GAMA Hosts paper\n",
    "\n",
    "Author: Maria B. Stone"
   ]
  },
  {
   "cell_type": "markdown",
   "metadata": {},
   "source": [
    "# Get a table with sSFR data for normal galaxies\n",
    "\n",
    "**This code will give a table with sSFR data from CIGALE and MAGPHYS for normal galaxies.**"
   ]
  },
  {
   "cell_type": "markdown",
   "metadata": {},
   "source": [
    "-------"
   ]
  },
  {
   "cell_type": "markdown",
   "metadata": {},
   "source": [
    "Here we import the necessary packages."
   ]
  },
  {
   "cell_type": "code",
   "execution_count": 1,
   "metadata": {},
   "outputs": [],
   "source": [
    "import numpy as np\n",
    "from astropy import units as u\n",
    "from astropy.table import Table, join\n",
    "\n",
    "from functions_GAMA import controlgxs_join_magphys_cigale_results\n",
    "\n",
    "# for plotting\n",
    "from matplotlib import pyplot as plt\n",
    "%matplotlib inline\n"
   ]
  },
  {
   "cell_type": "markdown",
   "metadata": {},
   "source": [
    "Data tables are stored in the directory '1_tables'.\n",
    "They will be called from inside it in the code."
   ]
  },
  {
   "cell_type": "code",
   "execution_count": 2,
   "metadata": {
    "scrolled": true
   },
   "outputs": [],
   "source": [
    "DATA_DIR = \"../1_tables/\""
   ]
  },
  {
   "cell_type": "markdown",
   "metadata": {},
   "source": [
    "Join the data from CIGALE and MAGPHYS for each normal galaxy in the control group, based on 'CATAID'."
   ]
  },
  {
   "cell_type": "code",
   "execution_count": 3,
   "metadata": {},
   "outputs": [],
   "source": [
    "# Specify the file containing the data from CIGALE for normal galaxies\n",
    "cigale_file = DATA_DIR + 'results_galaxies.fits'\n",
    "#cigale_file = Table.read(DATA_DIR + 'table_data_controlgxs_cigale_subsample.fits')"
   ]
  },
  {
   "cell_type": "code",
   "execution_count": 4,
   "metadata": {
    "scrolled": true
   },
   "outputs": [],
   "source": [
    "# Specify the file with MAGPHYS data for a single set of normal galaxies, which is our control\n",
    "magphys_file = DATA_DIR + '12_data_seed_gals_set199_magphys.fits'\n",
    "#magphys_file = Table.read(DATA_DIR + 'table_data_controlgxs_magphys_subsample.fits')"
   ]
  },
  {
   "cell_type": "code",
   "execution_count": 5,
   "metadata": {},
   "outputs": [],
   "source": [
    "# Join the tables\n",
    "data = controlgxs_join_magphys_cigale_results(cigale_file, magphys_file, id_col='id')"
   ]
  },
  {
   "cell_type": "markdown",
   "metadata": {},
   "source": [
    "----------"
   ]
  },
  {
   "cell_type": "markdown",
   "metadata": {},
   "source": [
    "Now that we have everything organized, let's pull the sSFR data that we need."
   ]
  },
  {
   "cell_type": "markdown",
   "metadata": {},
   "source": [
    "First get the data for MAGPHYS estimate for sSFR for a normal galaxy"
   ]
  },
  {
   "cell_type": "code",
   "execution_count": 6,
   "metadata": {},
   "outputs": [],
   "source": [
    "sSFR_magphys = data['sSFR_0_1Gyr_best_fit']"
   ]
  },
  {
   "cell_type": "markdown",
   "metadata": {},
   "source": [
    "For CIGALE, we need to calculate ourselves, \n",
    "\n",
    "``` mathematica \n",
    "specefic SFR = SFR / stellar Mass \n",
    "```"
   ]
  },
  {
   "cell_type": "code",
   "execution_count": 7,
   "metadata": {},
   "outputs": [],
   "source": [
    "#SFR estimate from CIGALE\n",
    "sfr_cigale = data['bayes.sfh.sfr']\n",
    "\n",
    "#Mass estimate from CIGALE\n",
    "mass_cigale = data['bayes.stellar.m_star']\n",
    "\n",
    "# Calculate the sSFR based on the formula above\n",
    "sSFR_cigale_value = sfr_cigale.value / mass_cigale.value # The units are 1/yr"
   ]
  },
  {
   "cell_type": "markdown",
   "metadata": {},
   "source": [
    "Calculate the log10 values"
   ]
  },
  {
   "cell_type": "code",
   "execution_count": 8,
   "metadata": {},
   "outputs": [],
   "source": [
    "sSFR_cigale_log_value = np.log10(sSFR_cigale_value) # The units are 1/yr\n",
    "sSFR_magphys_log = np.log10(sSFR_magphys)"
   ]
  },
  {
   "cell_type": "markdown",
   "metadata": {},
   "source": [
    "We create a table for working with sSFR of normal galaxies and save it."
   ]
  },
  {
   "cell_type": "code",
   "execution_count": 9,
   "metadata": {},
   "outputs": [],
   "source": [
    "sSFR_table = Table()\n",
    "\n",
    "sSFR_table['CATAID'] = np.copy(data['CATAID'])\n",
    "sSFR_table['log_sSFR_cigale'] = sSFR_cigale_log_value * (1/u.yr) # I specify the unit\n",
    "sSFR_table['log_sSFR_magphys'] = sSFR_magphys_log"
   ]
  },
  {
   "cell_type": "code",
   "execution_count": 10,
   "metadata": {},
   "outputs": [],
   "source": [
    "sSFR_table.write('table_data_controlgxs_sSFR.fits', overwrite=True)"
   ]
  },
  {
   "cell_type": "code",
   "execution_count": null,
   "metadata": {},
   "outputs": [],
   "source": []
  },
  {
   "cell_type": "code",
   "execution_count": 11,
   "metadata": {},
   "outputs": [],
   "source": [
    "# End"
   ]
  },
  {
   "cell_type": "code",
   "execution_count": null,
   "metadata": {},
   "outputs": [],
   "source": []
  },
  {
   "cell_type": "code",
   "execution_count": null,
   "metadata": {},
   "outputs": [],
   "source": []
  }
 ],
 "metadata": {
  "kernelspec": {
   "display_name": "Python 3 (ipykernel)",
   "language": "python",
   "name": "python3"
  },
  "language_info": {
   "codemirror_mode": {
    "name": "ipython",
    "version": 3
   },
   "file_extension": ".py",
   "mimetype": "text/x-python",
   "name": "python",
   "nbconvert_exporter": "python",
   "pygments_lexer": "ipython3",
   "version": "3.8.5"
  }
 },
 "nbformat": 4,
 "nbformat_minor": 2
}
